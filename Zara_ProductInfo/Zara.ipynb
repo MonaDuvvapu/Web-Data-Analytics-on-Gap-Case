{
 "cells": [
  {
   "cell_type": "code",
   "execution_count": 1,
   "id": "5c349624",
   "metadata": {},
   "outputs": [
    {
     "name": "stdout",
     "output_type": "stream",
     "text": [
      "Requirement already satisfied: selenium in c:\\users\\oyo\\anaconda3\\lib\\site-packages (4.12.0)\n",
      "Requirement already satisfied: trio~=0.17 in c:\\users\\oyo\\anaconda3\\lib\\site-packages (from selenium) (0.22.2)\n",
      "Requirement already satisfied: certifi>=2021.10.8 in c:\\users\\oyo\\anaconda3\\lib\\site-packages (from selenium) (2023.7.22)\n",
      "Requirement already satisfied: urllib3[socks]<3,>=1.26 in c:\\users\\oyo\\anaconda3\\lib\\site-packages (from selenium) (1.26.4)\n",
      "Requirement already satisfied: trio-websocket~=0.9 in c:\\users\\oyo\\anaconda3\\lib\\site-packages (from selenium) (0.10.4)\n",
      "Requirement already satisfied: attrs>=20.1.0 in c:\\users\\oyo\\anaconda3\\lib\\site-packages (from trio~=0.17->selenium) (20.3.0)\n",
      "Requirement already satisfied: cffi>=1.14 in c:\\users\\oyo\\anaconda3\\lib\\site-packages (from trio~=0.17->selenium) (1.14.5)\n",
      "Requirement already satisfied: idna in c:\\users\\oyo\\anaconda3\\lib\\site-packages (from trio~=0.17->selenium) (2.10)\n",
      "Requirement already satisfied: exceptiongroup>=1.0.0rc9 in c:\\users\\oyo\\anaconda3\\lib\\site-packages (from trio~=0.17->selenium) (1.1.3)\n",
      "Requirement already satisfied: sortedcontainers in c:\\users\\oyo\\anaconda3\\lib\\site-packages (from trio~=0.17->selenium) (2.3.0)\n",
      "Requirement already satisfied: outcome in c:\\users\\oyo\\anaconda3\\lib\\site-packages (from trio~=0.17->selenium) (1.2.0)\n",
      "Requirement already satisfied: sniffio in c:\\users\\oyo\\anaconda3\\lib\\site-packages (from trio~=0.17->selenium) (1.2.0)\n",
      "Requirement already satisfied: pycparser in c:\\users\\oyo\\anaconda3\\lib\\site-packages (from cffi>=1.14->trio~=0.17->selenium) (2.20)\n",
      "Requirement already satisfied: wsproto>=0.14 in c:\\users\\oyo\\anaconda3\\lib\\site-packages (from trio-websocket~=0.9->selenium) (1.2.0)\n",
      "Requirement already satisfied: PySocks!=1.5.7,<2.0,>=1.5.6 in c:\\users\\oyo\\anaconda3\\lib\\site-packages (from urllib3[socks]<3,>=1.26->selenium) (1.7.1)\n",
      "Requirement already satisfied: h11<1,>=0.9.0 in c:\\users\\oyo\\anaconda3\\lib\\site-packages (from wsproto>=0.14->trio-websocket~=0.9->selenium) (0.14.0)\n",
      "Requirement already satisfied: webdriver_manager in c:\\users\\oyo\\anaconda3\\lib\\site-packages (4.0.0)\n",
      "Requirement already satisfied: packaging in c:\\users\\oyo\\anaconda3\\lib\\site-packages (from webdriver_manager) (20.9)\n",
      "Requirement already satisfied: python-dotenv in c:\\users\\oyo\\anaconda3\\lib\\site-packages (from webdriver_manager) (1.0.0)\n",
      "Requirement already satisfied: requests in c:\\users\\oyo\\anaconda3\\lib\\site-packages (from webdriver_manager) (2.25.1)\n",
      "Requirement already satisfied: pyparsing>=2.0.2 in c:\\users\\oyo\\anaconda3\\lib\\site-packages (from packaging->webdriver_manager) (2.4.7)\n",
      "Requirement already satisfied: urllib3<1.27,>=1.21.1 in c:\\users\\oyo\\anaconda3\\lib\\site-packages (from requests->webdriver_manager) (1.26.4)\n",
      "Requirement already satisfied: chardet<5,>=3.0.2 in c:\\users\\oyo\\anaconda3\\lib\\site-packages (from requests->webdriver_manager) (4.0.0)\n",
      "Requirement already satisfied: idna<3,>=2.5 in c:\\users\\oyo\\anaconda3\\lib\\site-packages (from requests->webdriver_manager) (2.10)\n",
      "Requirement already satisfied: certifi>=2017.4.17 in c:\\users\\oyo\\anaconda3\\lib\\site-packages (from requests->webdriver_manager) (2023.7.22)\n"
     ]
    }
   ],
   "source": [
    "!pip install selenium\n",
    "!pip3 install webdriver_manager\n",
    "url='https://www.zara.com/us/en/man-jeans-l659.html?v1=2297970&regionGroupId=21'"
   ]
  },
  {
   "cell_type": "code",
   "execution_count": 9,
   "id": "4deb88f4",
   "metadata": {},
   "outputs": [
    {
     "name": "stderr",
     "output_type": "stream",
     "text": [
      "<ipython-input-9-af27881766c8>:17: DeprecationWarning: Firefox will soon stop logging to geckodriver.log by default; Specify desired logs with log_output\n",
      "  driver = webdriver.Firefox(service=Service(GeckoDriverManager().install()), options = firefox_options)\n",
      "<ipython-input-9-af27881766c8>:23: DeprecationWarning: Firefox will soon stop logging to geckodriver.log by default; Specify desired logs with log_output\n",
      "  driver = webdriver.Firefox(service=Service(GeckoDriverManager().install()), options = firefox_options)\n"
     ]
    }
   ],
   "source": [
    "from bs4 import BeautifulSoup as bs\n",
    "from selenium import webdriver\n",
    "from selenium.webdriver.firefox.options import Options\n",
    "from selenium.webdriver.common.by import By\n",
    "from selenium.webdriver.support.wait import WebDriverWait\n",
    "from selenium.webdriver.support import expected_conditions as EC\n",
    "from selenium.webdriver.firefox.service import Service\n",
    "from webdriver_manager.firefox import GeckoDriverManager\n",
    "import time\n",
    "import random\n",
    "\n",
    "firefox_options = Options()\n",
    "#firefox_options.add_argument('--headless')\n",
    "firefox_options.add_argument('--no-sandbox')\n",
    "firefox_options.add_argument('--disable-dev-shm-usage')\n",
    "\n",
    "driver = webdriver.Firefox(service=Service(GeckoDriverManager().install()), options = firefox_options)\n",
    "\n",
    "time.sleep(3)\n",
    "driver.quit()\n",
    "\n",
    "\n",
    "driver = webdriver.Firefox(service=Service(GeckoDriverManager().install()), options = firefox_options)\n",
    "driver.get(url) \n",
    "    \n",
    "#assert 'Zara' in driver.title \n",
    "    \n",
    "SCROLL_PAUSE_TIME = 10\n",
    "\n",
    "   \n",
    "last_height = driver.execute_script(\"return document.body.scrollHeight\")\n",
    "wait = WebDriverWait(driver, 10)\n",
    "while True:\n",
    "    driver.execute_script(\"window.scrollTo(0, document.body.scrollHeight);\")\n",
    "    time.sleep(SCROLL_PAUSE_TIME)\n",
    "    new_height = driver.execute_script(\"return document.body.scrollHeight\")\n",
    "    if new_height == last_height:\n",
    "        break\n",
    "    last_height = new_height\n",
    "    wait = WebDriverWait(driver, 20)\n",
    "wait.until(EC.visibility_of_element_located((By.CSS_SELECTOR, \"[href='https://static.zara.net/static//pdfs/US/privacy-policy/privacy-policy-en_US-20230726.pdf']\")))\n",
    "  \n",
    "html = driver.page_source \n",
    "soup = bs(html, 'html.parser')"
   ]
  },
  {
   "cell_type": "code",
   "execution_count": 10,
   "id": "03ef21f7",
   "metadata": {},
   "outputs": [
    {
     "data": {
      "text/plain": [
       "[<div class=\"carousel__container\"><div class=\"carousel__header\"></div><div class=\"carousel__viewport\"><ul class=\"carousel__items\" style=\"pointer-events:auto;transform:none\"><li class=\"product-grid-product _product carousel__item product-grid-product--ZOOM1-columns product-grid-product--0th-column product-grid-product--is-row-start\" data-pagenum=\"1\" data-productid=\"274046777\"><div class=\"product-grid-product__figure\"><a class=\"product-link product-grid-product__link link\" data-qa-action=\"product-click\" draggable=\"false\" href=\"https://www.zara.com/us/en/vintage-baggy-jeans-p06688310.html\" tabindex=\"0\"><div class=\"products-category-grid-media-container\"><div class=\"media products-category-grid-media\"><div class=\"media__wrapper media__wrapper--fill\" style=\"padding-bottom:249.81%\"><img alt=\"VINTAGE BAGGY JEANS\" class=\"media-image__image media__wrapper--media\" data-qa-qualifier=\"media-image\" src=\"https://static.zara.net/photos///2023/I/0/2/p/6688/310/427/2/w/183/6688310427_15_1_1.jpg?ts=1692188211317\"/></div></div></div></a><div class=\"product-grid-product__add-to-cart product-add-to-cart product-add-to-cart--full\"><div class=\"product-add-to-cart__toast\"></div><button aria-label=\"Add to cart\" class=\"product-add-to-cart__button\" data-qa-action=\"product-grid-open-size-selector\"><div class=\"product-add-to-cart__button-shade\"><svg class=\"product-add-to-cart__button-icon\" fill=\"none\" viewbox=\"0 0 7 7\" xmlns=\"http://www.w3.org/2000/svg\"><path d=\"M4 3.505V.255h-.5v3.25H.25v.5H3.5v3.25H4v-3.25h3.25v-.5H4z\"></path></svg></div></button></div></div><div class=\"product-grid-product__data\"><div class=\"product-grid-product__info-wrapper\"><div class=\"product-grid-product-info\"><div class=\"product-grid-product-info__product-header product-grid-product-info__product-header--with-wishlist\"><div class=\"product-grid-product-info__main-info\"><a class=\"product-link _item product-grid-product-info__name link\" data-qa-action=\"product-click\" draggable=\"false\" href=\"https://www.zara.com/us/en/vintage-baggy-jeans-p06688310.html\" tabindex=\"0\"><h3>VINTAGE BAGGY JEANS</h3></a></div><div class=\"product-grid-product-info-wishlist\"><button aria-label=\"Add item to wishlist\" class=\"wishlist-bookmark product-grid-product-info-wishlist__wishlist-button add-item-to-wishlist-button\" data-qa-action=\"add-to-wishlist\" type=\"button\"><svg class=\"wishlist-icon wishlist-icon--grid\" fill=\"inherit\" height=\"24\" heigth=\"24\" preserveaspectratio=\"xMidYMid slice\" stroke=\"inherit\" viewbox=\"0 0 24 24\" width=\"24\" xmlns=\"http://www.w3.org/2000/svg\"><path clip-rule=\"evenodd\" d=\"M12 15.238L17 20V4H7v16l5-4.762zm-4 2.429l4-3.81 4 3.81V5H8v12.667z\" fill-rule=\"evenodd\"></path></svg></button></div><div class=\"product-grid-product-info__product-price price\"><span class=\"price__amount-wrapper\"><span class=\"price__amount\" data-qa-id=\"price-container-current\"><span class=\"price-current__amount\" data-qa-qualifier=\"price-amount-current\"><div class=\"money-amount price-formatted__price-amount\"><span class=\"money-amount__main\">69.90 USD</span></div></span></span></span></div></div></div></div></div></li><li class=\"product-grid-product _product carousel__item product-grid-product--ZOOM1-columns product-grid-product--1th-column\" data-pagenum=\"1\" data-productid=\"272960841\"><div class=\"product-grid-product__figure\"><a class=\"product-link product-grid-product__link link\" data-qa-action=\"product-click\" draggable=\"false\" href=\"https://www.zara.com/us/en/straight-fit-jeans-p08062303.html\" tabindex=\"0\"><div class=\"products-category-grid-media-container\"><div class=\"media products-category-grid-media\"><div class=\"media__wrapper media__wrapper--fill\" style=\"padding-bottom:249.81%\"><img alt=\"STRAIGHT FIT JEANS\" class=\"media-image__image media__wrapper--media\" data-qa-qualifier=\"media-image\" src=\"https://static.zara.net/photos///2023/I/0/2/p/8062/302/620/2/w/183/8062302620_15_1_1.jpg?ts=1689938392707\"/></div></div></div></a><div class=\"product-grid-product__add-to-cart product-add-to-cart product-add-to-cart--full\"><div class=\"product-add-to-cart__toast\"></div><button aria-label=\"Add to cart\" class=\"product-add-to-cart__button\" data-qa-action=\"product-grid-open-size-selector\"><div class=\"product-add-to-cart__button-shade\"><svg class=\"product-add-to-cart__button-icon\" fill=\"none\" viewbox=\"0 0 7 7\" xmlns=\"http://www.w3.org/2000/svg\"><path d=\"M4 3.505V.255h-.5v3.25H.25v.5H3.5v3.25H4v-3.25h3.25v-.5H4z\"></path></svg></div></button></div></div><div class=\"product-grid-product__data\"><div class=\"product-grid-product__info-wrapper\"><div class=\"product-grid-product-info\"><div class=\"product-grid-product-info__product-header product-grid-product-info__product-header--with-wishlist\"><div class=\"product-grid-product-info__main-info\"><a class=\"product-link _item product-grid-product-info__name link\" data-qa-action=\"product-click\" draggable=\"false\" href=\"https://www.zara.com/us/en/straight-fit-jeans-p08062303.html\" tabindex=\"0\"><h3>STRAIGHT FIT JEANS</h3></a><span class=\"product-grid-product-info-colors product-grid-product-info__colors\"><span class=\"product-grid-product-info-colors__bubble\" style=\"background-color:#F9F5F4\"></span><span class=\"product-grid-product-info-colors__text\">+<!-- -->7</span></span></div><div class=\"product-grid-product-info-wishlist\"><button aria-label=\"Add item to wishlist\" class=\"wishlist-bookmark product-grid-product-info-wishlist__wishlist-button add-item-to-wishlist-button\" data-qa-action=\"add-to-wishlist\" type=\"button\"><svg class=\"wishlist-icon wishlist-icon--grid\" fill=\"inherit\" height=\"24\" heigth=\"24\" preserveaspectratio=\"xMidYMid slice\" stroke=\"inherit\" viewbox=\"0 0 24 24\" width=\"24\" xmlns=\"http://www.w3.org/2000/svg\"><path clip-rule=\"evenodd\" d=\"M12 15.238L17 20V4H7v16l5-4.762zm-4 2.429l4-3.81 4 3.81V5H8v12.667z\" fill-rule=\"evenodd\"></path></svg></button></div><div class=\"product-grid-product-info__product-price price\"><span class=\"price__amount-wrapper\"><span class=\"price__amount\" data-qa-id=\"price-container-current\"><span class=\"price-current__amount\" data-qa-qualifier=\"price-amount-current\"><div class=\"money-amount price-formatted__price-amount\"><span class=\"money-amount__main\">49.90 USD</span></div></span></span></span></div></div></div></div></div></li><li class=\"product-grid-product _product carousel__item product-grid-product--ZOOM1-columns product-grid-product--2th-column\" data-pagenum=\"1\" data-productid=\"295495339\"><div class=\"product-grid-product__figure\"><a class=\"product-link product-grid-product__link link\" data-qa-action=\"product-click\" draggable=\"false\" href=\"https://www.zara.com/us/en/utility-pocket-pants-p05575375.html\" tabindex=\"0\"><div class=\"products-category-grid-media-container\"><div class=\"media products-category-grid-media\"><div class=\"media__wrapper media__wrapper--fill\" style=\"padding-bottom:249.81%\"><img alt=\"UTILITY POCKET PANTS\" class=\"media-image__image media__wrapper--media\" data-qa-qualifier=\"media-image\" src=\"https://static.zara.net/photos///2023/I/0/2/p/5575/374/427/2/w/183/5575374427_15_1_1.jpg?ts=1695380031992\"/></div></div></div></a><div class=\"product-grid-product__add-to-cart product-add-to-cart product-add-to-cart--full\"><div class=\"product-add-to-cart__toast\"></div><button aria-label=\"Add to cart\" class=\"product-add-to-cart__button\" data-qa-action=\"product-grid-open-size-selector\"><div class=\"product-add-to-cart__button-shade\"><svg class=\"product-add-to-cart__button-icon\" fill=\"none\" viewbox=\"0 0 7 7\" xmlns=\"http://www.w3.org/2000/svg\"><path d=\"M4 3.505V.255h-.5v3.25H.25v.5H3.5v3.25H4v-3.25h3.25v-.5H4z\"></path></svg></div></button></div></div><div class=\"product-grid-product__data\"><div class=\"product-grid-product__info-wrapper\"><div class=\"product-grid-product-info\"><div class=\"product-grid-product-info__product-header product-grid-product-info__product-header--with-wishlist\"><div class=\"product-grid-product-info__main-info\"><a class=\"product-link _item product-grid-product-info__name link\" data-qa-action=\"product-click\" draggable=\"false\" href=\"https://www.zara.com/us/en/utility-pocket-pants-p05575375.html\" tabindex=\"0\"><h3>UTILITY POCKET PANTS</h3></a><span class=\"product-grid-product-info-colors product-grid-product-info__colors\"><span class=\"product-grid-product-info-colors__bubble\" style=\"background-color:#353D48\"></span><span class=\"product-grid-product-info-colors__text\">+<!-- -->1</span></span></div><div class=\"product-grid-product-info-wishlist\"><button aria-label=\"Add item to wishlist\" class=\"wishlist-bookmark product-grid-product-info-wishlist__wishlist-button add-item-to-wishlist-button\" data-qa-action=\"add-to-wishlist\" type=\"button\"><svg class=\"wishlist-icon wishlist-icon--grid\" fill=\"inherit\" height=\"24\" heigth=\"24\" preserveaspectratio=\"xMidYMid slice\" stroke=\"inherit\" viewbox=\"0 0 24 24\" width=\"24\" xmlns=\"http://www.w3.org/2000/svg\"><path clip-rule=\"evenodd\" d=\"M12 15.238L17 20V4H7v16l5-4.762zm-4 2.429l4-3.81 4 3.81V5H8v12.667z\" fill-rule=\"evenodd\"></path></svg></button></div><div class=\"product-grid-product-info__product-price price\"><span class=\"price__amount-wrapper\"><span class=\"price__amount\" data-qa-id=\"price-container-current\"><span class=\"price-current__amount\" data-qa-qualifier=\"price-amount-current\"><div class=\"money-amount price-formatted__price-amount\"><span class=\"money-amount__main\">89.90 USD</span></div></span></span></span></div></div></div></div></div></li><li class=\"product-grid-product _product carousel__item product-grid-product--ZOOM1-columns product-grid-product--3th-column\" data-pagenum=\"1\" data-productid=\"277958295\"><div class=\"product-grid-product__figure\"><a class=\"product-link product-grid-product__link link\" data-qa-action=\"product-click\" draggable=\"false\" href=\"https://www.zara.com/us/en/overdyed-vintage-jeans-p08062307.html\" tabindex=\"0\"><div class=\"products-category-grid-media-container\"><div class=\"media products-category-grid-media\"><div class=\"media__wrapper media__wrapper--fill\" style=\"padding-bottom:249.81%\"><img alt=\"OVERDYED VINTAGE JEANS\" class=\"media-image__image media__wrapper--media\" data-qa-qualifier=\"media-image\" src=\"https://static.zara.net/photos///2023/I/0/2/p/8062/307/445/2/w/183/8062307445_15_1_1.jpg?ts=1695380032003\"/></div></div></div></a><div class=\"product-grid-product__add-to-cart product-add-to-cart product-add-to-cart--full\"><div class=\"product-add-to-cart__toast\"></div><button aria-label=\"Add to cart\" class=\"product-add-to-cart__button\" data-qa-action=\"product-grid-open-size-selector\"><div class=\"product-add-to-cart__button-shade\"><svg class=\"product-add-to-cart__button-icon\" fill=\"none\" viewbox=\"0 0 7 7\" xmlns=\"http://www.w3.org/2000/svg\"><path d=\"M4 3.505V.255h-.5v3.25H.25v.5H3.5v3.25H4v-3.25h3.25v-.5H4z\"></path></svg></div></button></div></div><div class=\"product-grid-product__data\"><div class=\"product-grid-product__info-wrapper\"><div class=\"product-grid-product-info\"><div class=\"product-grid-product-info__product-header product-grid-product-info__product-header--with-wishlist\"><div class=\"product-grid-product-info__main-info\"><a class=\"product-link _item product-grid-product-info__name link\" data-qa-action=\"product-click\" draggable=\"false\" href=\"https://www.zara.com/us/en/overdyed-vintage-jeans-p08062307.html\" tabindex=\"0\"><h3>OVERDYED VINTAGE JEANS</h3></a></div><div class=\"product-grid-product-info-wishlist\"><button aria-label=\"Add item to wishlist\" class=\"wishlist-bookmark product-grid-product-info-wishlist__wishlist-button add-item-to-wishlist-button\" data-qa-action=\"add-to-wishlist\" type=\"button\"><svg class=\"wishlist-icon wishlist-icon--grid\" fill=\"inherit\" height=\"24\" heigth=\"24\" preserveaspectratio=\"xMidYMid slice\" stroke=\"inherit\" viewbox=\"0 0 24 24\" width=\"24\" xmlns=\"http://www.w3.org/2000/svg\"><path clip-rule=\"evenodd\" d=\"M12 15.238L17 20V4H7v16l5-4.762zm-4 2.429l4-3.81 4 3.81V5H8v12.667z\" fill-rule=\"evenodd\"></path></svg></button></div><div class=\"product-grid-product-info__product-price price\"><span class=\"price__amount-wrapper\"><span class=\"price__amount\" data-qa-id=\"price-container-current\"><span class=\"price-current__amount\" data-qa-qualifier=\"price-amount-current\"><div class=\"money-amount price-formatted__price-amount\"><span class=\"money-amount__main\">69.90 USD</span></div></span></span></span></div></div></div></div></div></li><li class=\"product-grid-product _product carousel__item product-grid-product--ZOOM1-columns product-grid-product--4th-column\" data-pagenum=\"1\" data-productid=\"294344130\"><div class=\"product-grid-product__figure\"><a class=\"product-link product-grid-product__link link\" data-qa-action=\"product-click\" draggable=\"false\" href=\"https://www.zara.com/us/en/slim-fit-jeans-p01538356.html\" tabindex=\"0\"><div class=\"products-category-grid-media-container\"><div class=\"media products-category-grid-media\"><div class=\"media__wrapper media__wrapper--fill\" style=\"padding-bottom:249.81%\"><img alt=\"SLIM FIT JEANS\" class=\"media-image__image media__wrapper--media\" data-qa-qualifier=\"media-image\" src=\"https://static.zara.net/photos///2023/I/0/2/p/1538/356/800/2/w/183/1538356800_15_1_1.jpg?ts=1695380031759\"/></div></div></div></a><div class=\"product-grid-product__add-to-cart product-add-to-cart product-add-to-cart--full\"><div class=\"product-add-to-cart__toast\"></div><button aria-label=\"Add to cart\" class=\"product-add-to-cart__button\" data-qa-action=\"product-grid-open-size-selector\"><div class=\"product-add-to-cart__button-shade\"><svg class=\"product-add-to-cart__button-icon\" fill=\"none\" viewbox=\"0 0 7 7\" xmlns=\"http://www.w3.org/2000/svg\"><path d=\"M4 3.505V.255h-.5v3.25H.25v.5H3.5v3.25H4v-3.25h3.25v-.5H4z\"></path></svg></div></button></div></div><div class=\"product-grid-product__data\"><div class=\"product-grid-product__info-wrapper\"><div class=\"product-grid-product-info\"><div class=\"product-grid-product-info__product-header product-grid-product-info__product-header--with-wishlist\"><div class=\"product-grid-product-info__main-info\"><a class=\"product-link _item product-grid-product-info__name link\" data-qa-action=\"product-click\" draggable=\"false\" href=\"https://www.zara.com/us/en/slim-fit-jeans-p01538356.html\" tabindex=\"0\"><h3>SLIM FIT JEANS</h3></a></div><div class=\"product-grid-product-info-wishlist\"><button aria-label=\"Add item to wishlist\" class=\"wishlist-bookmark product-grid-product-info-wishlist__wishlist-button add-item-to-wishlist-button\" data-qa-action=\"add-to-wishlist\" type=\"button\"><svg class=\"wishlist-icon wishlist-icon--grid\" fill=\"inherit\" height=\"24\" heigth=\"24\" preserveaspectratio=\"xMidYMid slice\" stroke=\"inherit\" viewbox=\"0 0 24 24\" width=\"24\" xmlns=\"http://www.w3.org/2000/svg\"><path clip-rule=\"evenodd\" d=\"M12 15.238L17 20V4H7v16l5-4.762zm-4 2.429l4-3.81 4 3.81V5H8v12.667z\" fill-rule=\"evenodd\"></path></svg></button></div><div class=\"product-grid-product-info__product-price price\"><span class=\"price__amount-wrapper\"><span class=\"price__amount\" data-qa-id=\"price-container-current\"><span class=\"price-current__amount\" data-qa-qualifier=\"price-amount-current\"><div class=\"money-amount price-formatted__price-amount\"><span class=\"money-amount__main\">59.90 USD</span></div></span></span></span></div></div></div></div></div></li><li class=\"product-grid-product _product carousel__item product-grid-product--ZOOM1-columns product-grid-product--5th-column product-grid-product--is-row-end\" data-pagenum=\"1\" data-productid=\"275469924\"><div class=\"product-grid-product__figure\"><a class=\"product-link product-grid-product__link link\" data-qa-action=\"product-click\" draggable=\"false\" href=\"https://www.zara.com/us/en/skinny-jeans-p05575320.html\" tabindex=\"0\"><div class=\"products-category-grid-media-container\"><div class=\"media products-category-grid-media\"><div class=\"media__wrapper media__wrapper--fill\" style=\"padding-bottom:250.05%\"><img alt=\"SKINNY JEANS\" class=\"media-image__image media__wrapper--media\" data-qa-qualifier=\"media-image\" src=\"https://static.zara.net/stdstatic/5.9.0/images/transparent-background.png\"/></div></div></div></a><div class=\"product-grid-product__add-to-cart product-add-to-cart product-add-to-cart--full\"><div class=\"product-add-to-cart__toast\"></div><button aria-label=\"Add to cart\" class=\"product-add-to-cart__button\" data-qa-action=\"product-grid-open-size-selector\"><div class=\"product-add-to-cart__button-shade\"><svg class=\"product-add-to-cart__button-icon\" fill=\"none\" viewbox=\"0 0 7 7\" xmlns=\"http://www.w3.org/2000/svg\"><path d=\"M4 3.505V.255h-.5v3.25H.25v.5H3.5v3.25H4v-3.25h3.25v-.5H4z\"></path></svg></div></button></div></div><div class=\"product-grid-product__data\"><div class=\"product-grid-product__info-wrapper\"><div class=\"product-grid-product-info\"><div class=\"product-grid-product-info__product-header product-grid-product-info__product-header--with-wishlist\"><div class=\"product-grid-product-info__main-info\"><a class=\"product-link _item product-grid-product-info__name link\" data-qa-action=\"product-click\" draggable=\"false\" href=\"https://www.zara.com/us/en/skinny-jeans-p05575320.html\" tabindex=\"0\"><h3>SKINNY JEANS</h3></a><span class=\"product-grid-product-info-colors product-grid-product-info__colors\"><span class=\"product-grid-product-info-colors__bubble\" style=\"background-color:#696866\"></span><span class=\"product-grid-product-info-colors__text\">+<!-- -->5</span></span></div><div class=\"product-grid-product-info-wishlist\"><button aria-label=\"Add item to wishlist\" class=\"wishlist-bookmark product-grid-product-info-wishlist__wishlist-button add-item-to-wishlist-button\" data-qa-action=\"add-to-wishlist\" type=\"button\"><svg class=\"wishlist-icon wishlist-icon--grid\" fill=\"inherit\" height=\"24\" heigth=\"24\" preserveaspectratio=\"xMidYMid slice\" stroke=\"inherit\" viewbox=\"0 0 24 24\" width=\"24\" xmlns=\"http://www.w3.org/2000/svg\"><path clip-rule=\"evenodd\" d=\"M12 15.238L17 20V4H7v16l5-4.762zm-4 2.429l4-3.81 4 3.81V5H8v12.667z\" fill-rule=\"evenodd\"></path></svg></button></div><div class=\"product-grid-product-info__product-price price\"><span class=\"price__amount-wrapper\"><span class=\"price__amount\" data-qa-id=\"price-container-current\"><span class=\"price-current__amount\" data-qa-qualifier=\"price-amount-current\"><div class=\"money-amount price-formatted__price-amount\"><span class=\"money-amount__main\">45.90 USD</span></div></span></span></span></div></div></div></div></div></li><li class=\"product-grid-product _product carousel__item product-grid-product--ZOOM1-columns product-grid-product--0th-column product-grid-product--is-row-start\" data-pagenum=\"1\" data-productid=\"290551683\"><div class=\"product-grid-product__figure\"><a class=\"product-link product-grid-product__link link\" data-qa-action=\"product-click\" draggable=\"false\" href=\"https://www.zara.com/us/en/waxed-effect-jeans-p06688302.html\" tabindex=\"0\"><div class=\"products-category-grid-media-container\"><div class=\"media products-category-grid-media\"><div class=\"media__wrapper media__wrapper--fill\" style=\"padding-bottom:249.9%\"><img alt=\"WAXED EFFECT JEANS\" class=\"media-image__image media__wrapper--media\" data-qa-qualifier=\"media-image\" src=\"https://static.zara.net/stdstatic/5.9.0/images/transparent-background.png\"/></div></div></div></a><div class=\"product-grid-product__add-to-cart product-add-to-cart product-add-to-cart--full\"><div class=\"product-add-to-cart__toast\"></div><button aria-label=\"Add to cart\" class=\"product-add-to-cart__button\" data-qa-action=\"product-grid-open-size-selector\"><div class=\"product-add-to-cart__button-shade\"><svg class=\"product-add-to-cart__button-icon\" fill=\"none\" viewbox=\"0 0 7 7\" xmlns=\"http://www.w3.org/2000/svg\"><path d=\"M4 3.505V.255h-.5v3.25H.25v.5H3.5v3.25H4v-3.25h3.25v-.5H4z\"></path></svg></div></button></div></div><div class=\"product-grid-product__data\"><div class=\"product-grid-product__info-wrapper\"><div class=\"product-grid-product-info\"><div class=\"product-grid-product-info__product-header product-grid-product-info__product-header--with-wishlist\"><div class=\"product-grid-product-info__main-info\"><a class=\"product-link _item product-grid-product-info__name link\" data-qa-action=\"product-click\" draggable=\"false\" href=\"https://www.zara.com/us/en/waxed-effect-jeans-p06688302.html\" tabindex=\"0\"><h3>WAXED EFFECT JEANS</h3></a></div><div class=\"product-grid-product-info-wishlist\"><button aria-label=\"Add item to wishlist\" class=\"wishlist-bookmark product-grid-product-info-wishlist__wishlist-button add-item-to-wishlist-button\" data-qa-action=\"add-to-wishlist\" type=\"button\"><svg class=\"wishlist-icon wishlist-icon--grid\" fill=\"inherit\" height=\"24\" heigth=\"24\" preserveaspectratio=\"xMidYMid slice\" stroke=\"inherit\" viewbox=\"0 0 24 24\" width=\"24\" xmlns=\"http://www.w3.org/2000/svg\"><path clip-rule=\"evenodd\" d=\"M12 15.238L17 20V4H7v16l5-4.762zm-4 2.429l4-3.81 4 3.81V5H8v12.667z\" fill-rule=\"evenodd\"></path></svg></button></div><div class=\"product-grid-product-info__product-price price\"><span class=\"price__amount-wrapper\"><span class=\"price__amount\" data-qa-id=\"price-container-current\"><span class=\"price-current__amount\" data-qa-qualifier=\"price-amount-current\"><div class=\"money-amount price-formatted__price-amount\"><span class=\"money-amount__main\">89.90 USD</span></div></span></span></span></div></div></div></div></div></li><li class=\"product-grid-product _product carousel__item product-grid-product--ZOOM1-columns product-grid-product--1th-column\" data-pagenum=\"1\" data-productid=\"277787312\"><div class=\"product-grid-product__figure\"><a class=\"product-link product-grid-product__link link\" data-qa-action=\"product-click\" draggable=\"false\" href=\"https://www.zara.com/us/en/straight-fit-jeans-p01538378.html\" tabindex=\"0\"><div class=\"products-category-grid-media-container\"><div class=\"media products-category-grid-media\"><div class=\"media__wrapper media__wrapper--fill\" style=\"padding-bottom:250.05%\"><img alt=\"STRAIGHT FIT JEANS\" class=\"media-image__image media__wrapper--media\" data-qa-qualifier=\"media-image\" src=\"https://static.zara.net/stdstatic/5.9.0/images/transparent-background.png\"/></div></div></div></a><div class=\"product-grid-product__add-to-cart product-add-to-cart product-add-to-cart--full\"><div class=\"product-add-to-cart__toast\"></div><button aria-label=\"Add to cart\" class=\"product-add-to-cart__button\" data-qa-action=\"product-grid-open-size-selector\"><div class=\"product-add-to-cart__button-shade\"><svg class=\"product-add-to-cart__button-icon\" fill=\"none\" viewbox=\"0 0 7 7\" xmlns=\"http://www.w3.org/2000/svg\"><path d=\"M4 3.505V.255h-.5v3.25H.25v.5H3.5v3.25H4v-3.25h3.25v-.5H4z\"></path></svg></div></button></div></div><div class=\"product-grid-product__data\"><div class=\"product-grid-product__info-wrapper\"><div class=\"product-grid-product-info\"><div class=\"product-grid-product-info__product-header product-grid-product-info__product-header--with-wishlist\"><div class=\"product-grid-product-info__main-info\"><a class=\"product-link _item product-grid-product-info__name link\" data-qa-action=\"product-click\" draggable=\"false\" href=\"https://www.zara.com/us/en/straight-fit-jeans-p01538378.html\" tabindex=\"0\"><h3>STRAIGHT FIT JEANS</h3></a></div><div class=\"product-grid-product-info-wishlist\"><button aria-label=\"Add item to wishlist\" class=\"wishlist-bookmark product-grid-product-info-wishlist__wishlist-button add-item-to-wishlist-button\" data-qa-action=\"add-to-wishlist\" type=\"button\"><svg class=\"wishlist-icon wishlist-icon--grid\" fill=\"inherit\" height=\"24\" heigth=\"24\" preserveaspectratio=\"xMidYMid slice\" stroke=\"inherit\" viewbox=\"0 0 24 24\" width=\"24\" xmlns=\"http://www.w3.org/2000/svg\"><path clip-rule=\"evenodd\" d=\"M12 15.238L17 20V4H7v16l5-4.762zm-4 2.429l4-3.81 4 3.81V5H8v12.667z\" fill-rule=\"evenodd\"></path></svg></button></div><div class=\"product-grid-product-info__product-price price\"><span class=\"price__amount-wrapper\"><span class=\"price__amount\" data-qa-id=\"price-container-current\"><span class=\"price-current__amount\" data-qa-qualifier=\"price-amount-current\"><div class=\"money-amount price-formatted__price-amount\"><span class=\"money-amount__main\">49.90 USD</span></div></span></span></span></div></div></div></div></div></li><li class=\"product-grid-product _product carousel__item product-grid-product--ZOOM1-columns product-grid-product--2th-column\" data-pagenum=\"1\" data-productid=\"287651586\"><div class=\"product-grid-product__figure\"><a class=\"product-link product-grid-product__link link\" data-qa-action=\"product-click\" draggable=\"false\" href=\"https://www.zara.com/us/en/straight-fit-jeans-p08062320.html\" tabindex=\"0\"><div class=\"products-category-grid-media-container\"><div class=\"media products-category-grid-media\"><div class=\"media__wrapper media__wrapper--fill\" style=\"padding-bottom:250.05%\"><img alt=\"STRAIGHT FIT JEANS\" class=\"media-image__image media__wrapper--media\" data-qa-qualifier=\"media-image\" src=\"https://static.zara.net/stdstatic/5.9.0/images/transparent-background.png\"/></div></div></div></a><div class=\"product-grid-product__add-to-cart product-add-to-cart product-add-to-cart--full\"><div class=\"product-add-to-cart__toast\"></div><button aria-label=\"Add to cart\" class=\"product-add-to-cart__button\" data-qa-action=\"product-grid-open-size-selector\"><div class=\"product-add-to-cart__button-shade\"><svg class=\"product-add-to-cart__button-icon\" fill=\"none\" viewbox=\"0 0 7 7\" xmlns=\"http://www.w3.org/2000/svg\"><path d=\"M4 3.505V.255h-.5v3.25H.25v.5H3.5v3.25H4v-3.25h3.25v-.5H4z\"></path></svg></div></button></div></div><div class=\"product-grid-product__data\"><div class=\"product-grid-product__info-wrapper\"><div class=\"product-grid-product-info\"><div class=\"product-grid-product-info__product-header product-grid-product-info__product-header--with-wishlist\"><div class=\"product-grid-product-info__main-info\"><a class=\"product-link _item product-grid-product-info__name link\" data-qa-action=\"product-click\" draggable=\"false\" href=\"https://www.zara.com/us/en/straight-fit-jeans-p08062320.html\" tabindex=\"0\"><h3>STRAIGHT FIT JEANS</h3></a><span class=\"product-grid-product-info-colors product-grid-product-info__colors\"><span class=\"product-grid-product-info-colors__bubble\" style=\"background-color:#777873\"></span><span class=\"product-grid-product-info-colors__text\">+<!-- -->4</span></span></div><div class=\"product-grid-product-info-wishlist\"><button aria-label=\"Add item to wishlist\" class=\"wishlist-bookmark product-grid-product-info-wishlist__wishlist-button add-item-to-wishlist-button\" data-qa-action=\"add-to-wishlist\" type=\"button\"><svg class=\"wishlist-icon wishlist-icon--grid\" fill=\"inherit\" height=\"24\" heigth=\"24\" preserveaspectratio=\"xMidYMid slice\" stroke=\"inherit\" viewbox=\"0 0 24 24\" width=\"24\" xmlns=\"http://www.w3.org/2000/svg\"><path clip-rule=\"evenodd\" d=\"M12 15.238L17 20V4H7v16l5-4.762zm-4 2.429l4-3.81 4 3.81V5H8v12.667z\" fill-rule=\"evenodd\"></path></svg></button></div><div class=\"product-grid-product-info__product-price price\"><span class=\"price__amount-wrapper\"><span class=\"price__amount\" data-qa-id=\"price-container-current\"><span class=\"price-current__amount\" data-qa-qualifier=\"price-amount-current\"><div class=\"money-amount price-formatted__price-amount\"><span class=\"money-amount__main\">49.90 USD</span></div></span></span></span></div></div></div></div></div></li><li class=\"product-grid-product _product carousel__item product-grid-product--ZOOM1-columns product-grid-product--3th-column\" data-pagenum=\"1\" data-productid=\"278805785\"><div class=\"product-grid-product__figure\"><a class=\"product-link product-grid-product__link link\" data-qa-action=\"product-click\" draggable=\"false\" href=\"https://www.zara.com/us/en/slim-fit-jeans-p04060311.html\" tabindex=\"0\"><div class=\"products-category-grid-media-container\"><div class=\"media products-category-grid-media\"><div class=\"media__wrapper media__wrapper--fill\" style=\"padding-bottom:249.81%\"><img alt=\"SLIM FIT JEANS\" class=\"media-image__image media__wrapper--media\" data-qa-qualifier=\"media-image\" src=\"https://static.zara.net/stdstatic/5.9.0/images/transparent-background.png\"/></div></div></div></a><div class=\"product-grid-product__add-to-cart product-add-to-cart product-add-to-cart--full\"><div class=\"product-add-to-cart__toast\"></div><button aria-label=\"Add to cart\" class=\"product-add-to-cart__button\" data-qa-action=\"product-grid-open-size-selector\"><div class=\"product-add-to-cart__button-shade\"><svg class=\"product-add-to-cart__button-icon\" fill=\"none\" viewbox=\"0 0 7 7\" xmlns=\"http://www.w3.org/2000/svg\"><path d=\"M4 3.505V.255h-.5v3.25H.25v.5H3.5v3.25H4v-3.25h3.25v-.5H4z\"></path></svg></div></button></div></div><div class=\"product-grid-product__data\"><div class=\"product-grid-product__info-wrapper\"><div class=\"product-grid-product-info\"><div class=\"product-grid-product-info__product-header product-grid-product-info__product-header--with-wishlist\"><div class=\"product-grid-product-info__main-info\"><a class=\"product-link _item product-grid-product-info__name link\" data-qa-action=\"product-click\" draggable=\"false\" href=\"https://www.zara.com/us/en/slim-fit-jeans-p04060311.html\" tabindex=\"0\"><h3>SLIM FIT JEANS</h3></a><span class=\"product-grid-product-info-colors product-grid-product-info__colors\"><span class=\"product-grid-product-info-colors__bubble\" style=\"background-color:#657580\"></span><span class=\"product-grid-product-info-colors__text\">+<!-- -->5</span></span></div><div class=\"product-grid-product-info-wishlist\"><button aria-label=\"Add item to wishlist\" class=\"wishlist-bookmark product-grid-product-info-wishlist__wishlist-button add-item-to-wishlist-button\" data-qa-action=\"add-to-wishlist\" type=\"button\"><svg class=\"wishlist-icon wishlist-icon--grid\" fill=\"inherit\" height=\"24\" heigth=\"24\" preserveaspectratio=\"xMidYMid slice\" stroke=\"inherit\" viewbox=\"0 0 24 24\" width=\"24\" xmlns=\"http://www.w3.org/2000/svg\"><path clip-rule=\"evenodd\" d=\"M12 15.238L17 20V4H7v16l5-4.762zm-4 2.429l4-3.81 4 3.81V5H8v12.667z\" fill-rule=\"evenodd\"></path></svg></button></div><div class=\"product-grid-product-info__product-price price\"><span class=\"price__amount-wrapper\"><span class=\"price__amount\" data-qa-id=\"price-container-current\"><span class=\"price-current__amount\" data-qa-qualifier=\"price-amount-current\"><div class=\"money-amount price-formatted__price-amount\"><span class=\"money-amount__main\">45.90 USD</span></div></span></span></span></div></div></div></div></div></li></ul></div></div>,\n",
       " <div class=\"carousel__container\"><div class=\"carousel__header\"></div><div class=\"carousel__viewport\"><ul class=\"carousel__items\" style=\"pointer-events:auto;transform:none\"><li class=\"product-grid-product _product carousel__item product-grid-product--ZOOM1-columns product-grid-product--0th-column product-grid-product--is-row-start\" data-pagenum=\"1\" data-productid=\"272960847\"><div class=\"product-grid-product__figure\"><a class=\"product-link product-grid-product__link link\" data-qa-action=\"product-click\" draggable=\"false\" href=\"https://www.zara.com/us/en/straight-fit-jeans-p08062303.html\" tabindex=\"0\"><div class=\"products-category-grid-media-container\"><div class=\"media products-category-grid-media\"><div class=\"media__wrapper media__wrapper--fill\" style=\"padding-bottom:249.81%\"><img alt=\"STRAIGHT FIT JEANS\" class=\"media-image__image media__wrapper--media\" data-qa-qualifier=\"media-image\" src=\"https://static.zara.net/stdstatic/5.9.0/images/transparent-background.png\"/></div></div></div></a><div class=\"product-grid-product__add-to-cart product-add-to-cart product-add-to-cart--full\"><div class=\"product-add-to-cart__toast\"></div><button aria-label=\"Add to cart\" class=\"product-add-to-cart__button\" data-qa-action=\"product-grid-open-size-selector\"><div class=\"product-add-to-cart__button-shade\"><svg class=\"product-add-to-cart__button-icon\" fill=\"none\" viewbox=\"0 0 7 7\" xmlns=\"http://www.w3.org/2000/svg\"><path d=\"M4 3.505V.255h-.5v3.25H.25v.5H3.5v3.25H4v-3.25h3.25v-.5H4z\"></path></svg></div></button></div></div><div class=\"product-grid-product__data\"><div class=\"product-grid-product__info-wrapper\"><div class=\"product-grid-product-info\"><div class=\"product-grid-product-info__product-header product-grid-product-info__product-header--with-wishlist\"><div class=\"product-grid-product-info__main-info\"><a class=\"product-link _item product-grid-product-info__name link\" data-qa-action=\"product-click\" draggable=\"false\" href=\"https://www.zara.com/us/en/straight-fit-jeans-p08062303.html\" tabindex=\"0\"><h3>STRAIGHT FIT JEANS</h3></a><span class=\"product-grid-product-info-colors product-grid-product-info__colors\"><span class=\"product-grid-product-info-colors__bubble\" style=\"background-color:#93A7B8\"></span><span class=\"product-grid-product-info-colors__text\">+<!-- -->7</span></span></div><div class=\"product-grid-product-info-wishlist\"><button aria-label=\"Add item to wishlist\" class=\"wishlist-bookmark product-grid-product-info-wishlist__wishlist-button add-item-to-wishlist-button\" data-qa-action=\"add-to-wishlist\" type=\"button\"><svg class=\"wishlist-icon wishlist-icon--grid\" fill=\"inherit\" height=\"24\" heigth=\"24\" preserveaspectratio=\"xMidYMid slice\" stroke=\"inherit\" viewbox=\"0 0 24 24\" width=\"24\" xmlns=\"http://www.w3.org/2000/svg\"><path clip-rule=\"evenodd\" d=\"M12 15.238L17 20V4H7v16l5-4.762zm-4 2.429l4-3.81 4 3.81V5H8v12.667z\" fill-rule=\"evenodd\"></path></svg></button></div><div class=\"product-grid-product-info__product-price price\"><span class=\"price__amount-wrapper\"><span class=\"price__amount\" data-qa-id=\"price-container-current\"><span class=\"price-current__amount\" data-qa-qualifier=\"price-amount-current\"><div class=\"money-amount price-formatted__price-amount\"><span class=\"money-amount__main\">49.90 USD</span></div></span></span></span></div></div></div></div></div></li><li class=\"product-grid-product _product carousel__item product-grid-product--ZOOM1-columns product-grid-product--1th-column\" data-pagenum=\"1\" data-productid=\"278805733\"><div class=\"product-grid-product__figure\"><a class=\"product-link product-grid-product__link link\" data-qa-action=\"product-click\" draggable=\"false\" href=\"https://www.zara.com/us/en/slim-fit-jeans-p00774330.html\" tabindex=\"0\"><div class=\"products-category-grid-media-container\"><div class=\"media products-category-grid-media\"><div class=\"media__wrapper media__wrapper--fill\" style=\"padding-bottom:250.05%\"><img alt=\"SLIM FIT JEANS\" class=\"media-image__image media__wrapper--media\" data-qa-qualifier=\"media-image\" src=\"https://static.zara.net/stdstatic/5.9.0/images/transparent-background.png\"/></div></div></div></a><div class=\"product-grid-product__add-to-cart product-add-to-cart product-add-to-cart--full\"><div class=\"product-add-to-cart__toast\"></div><button aria-label=\"Add to cart\" class=\"product-add-to-cart__button\" data-qa-action=\"product-grid-open-size-selector\"><div class=\"product-add-to-cart__button-shade\"><svg class=\"product-add-to-cart__button-icon\" fill=\"none\" viewbox=\"0 0 7 7\" xmlns=\"http://www.w3.org/2000/svg\"><path d=\"M4 3.505V.255h-.5v3.25H.25v.5H3.5v3.25H4v-3.25h3.25v-.5H4z\"></path></svg></div></button></div></div><div class=\"product-grid-product__data\"><div class=\"product-grid-product__info-wrapper\"><div class=\"product-grid-product-info\"><div class=\"product-grid-product-info__product-header product-grid-product-info__product-header--with-wishlist\"><div class=\"product-grid-product-info__main-info\"><a class=\"product-link _item product-grid-product-info__name link\" data-qa-action=\"product-click\" draggable=\"false\" href=\"https://www.zara.com/us/en/slim-fit-jeans-p00774330.html\" tabindex=\"0\"><h3>SLIM FIT JEANS</h3></a><span class=\"product-grid-product-info-colors product-grid-product-info__colors\"><span class=\"product-grid-product-info-colors__bubble\" style=\"background-color:#434D58\"></span><span class=\"product-grid-product-info-colors__text\">+<!-- -->6</span></span></div><div class=\"product-grid-product-info-wishlist\"><button aria-label=\"Add item to wishlist\" class=\"wishlist-bookmark product-grid-product-info-wishlist__wishlist-button add-item-to-wishlist-button\" data-qa-action=\"add-to-wishlist\" type=\"button\"><svg class=\"wishlist-icon wishlist-icon--grid\" fill=\"inherit\" height=\"24\" heigth=\"24\" preserveaspectratio=\"xMidYMid slice\" stroke=\"inherit\" viewbox=\"0 0 24 24\" width=\"24\" xmlns=\"http://www.w3.org/2000/svg\"><path clip-rule=\"evenodd\" d=\"M12 15.238L17 20V4H7v16l5-4.762zm-4 2.429l4-3.81 4 3.81V5H8v12.667z\" fill-rule=\"evenodd\"></path></svg></button></div><div class=\"product-grid-product-info__product-price price\"><span class=\"price__amount-wrapper\"><span class=\"price__amount\" data-qa-id=\"price-container-current\"><span class=\"price-current__amount\" data-qa-qualifier=\"price-amount-current\"><div class=\"money-amount price-formatted__price-amount\"><span class=\"money-amount__main\">45.90 USD</span></div></span></span></span></div></div></div></div></div></li><li class=\"product-grid-product _product carousel__item product-grid-product--ZOOM1-columns product-grid-product--2th-column\" data-pagenum=\"1\" data-productid=\"267133951\"><div class=\"product-grid-product__figure\"><a class=\"product-link product-grid-product__link link\" data-qa-action=\"product-click\" draggable=\"false\" href=\"https://www.zara.com/us/en/skinny-jeans-p05575320.html\" tabindex=\"0\"><div class=\"products-category-grid-media-container\"><div class=\"media products-category-grid-media\"><div class=\"media__wrapper media__wrapper--fill\" style=\"padding-bottom:250.05%\"><img alt=\"SKINNY JEANS\" class=\"media-image__image media__wrapper--media\" data-qa-qualifier=\"media-image\" src=\"https://static.zara.net/stdstatic/5.9.0/images/transparent-background.png\"/></div></div></div></a><div class=\"product-grid-product__add-to-cart product-add-to-cart product-add-to-cart--full\"><div class=\"product-add-to-cart__toast\"></div><button aria-label=\"Add to cart\" class=\"product-add-to-cart__button\" data-qa-action=\"product-grid-open-size-selector\"><div class=\"product-add-to-cart__button-shade\"><svg class=\"product-add-to-cart__button-icon\" fill=\"none\" viewbox=\"0 0 7 7\" xmlns=\"http://www.w3.org/2000/svg\"><path d=\"M4 3.505V.255h-.5v3.25H.25v.5H3.5v3.25H4v-3.25h3.25v-.5H4z\"></path></svg></div></button></div></div><div class=\"product-grid-product__data\"><div class=\"product-grid-product__info-wrapper\"><div class=\"product-grid-product-info\"><div class=\"product-grid-product-info__product-header product-grid-product-info__product-header--with-wishlist\"><div class=\"product-grid-product-info__main-info\"><a class=\"product-link _item product-grid-product-info__name link\" data-qa-action=\"product-click\" draggable=\"false\" href=\"https://www.zara.com/us/en/skinny-jeans-p05575320.html\" tabindex=\"0\"><h3>SKINNY JEANS</h3></a><span class=\"product-grid-product-info-colors product-grid-product-info__colors\"><span class=\"product-grid-product-info-colors__bubble\" style=\"background-color:#373536\"></span><span class=\"product-grid-product-info-colors__text\">+<!-- -->5</span></span></div><div class=\"product-grid-product-info-wishlist\"><button aria-label=\"Add item to wishlist\" class=\"wishlist-bookmark product-grid-product-info-wishlist__wishlist-button add-item-to-wishlist-button\" data-qa-action=\"add-to-wishlist\" type=\"button\"><svg class=\"wishlist-icon wishlist-icon--grid\" fill=\"inherit\" height=\"24\" heigth=\"24\" preserveaspectratio=\"xMidYMid slice\" stroke=\"inherit\" viewbox=\"0 0 24 24\" width=\"24\" xmlns=\"http://www.w3.org/2000/svg\"><path clip-rule=\"evenodd\" d=\"M12 15.238L17 20V4H7v16l5-4.762zm-4 2.429l4-3.81 4 3.81V5H8v12.667z\" fill-rule=\"evenodd\"></path></svg></button></div><div class=\"product-grid-product-info__product-price price\"><span class=\"price__amount-wrapper\"><span class=\"price__amount\" data-qa-id=\"price-container-current\"><span class=\"price-current__amount\" data-qa-qualifier=\"price-amount-current\"><div class=\"money-amount price-formatted__price-amount\"><span class=\"money-amount__main\">45.90 USD</span></div></span></span></span></div></div></div></div></div></li><li class=\"product-grid-product _product carousel__item product-grid-product--ZOOM1-columns product-grid-product--3th-column\" data-pagenum=\"1\" data-productid=\"267134656\"><div class=\"product-grid-product__figure\"><a class=\"product-link product-grid-product__link link\" data-qa-action=\"product-click\" draggable=\"false\" href=\"https://www.zara.com/us/en/slim-fit-jeans-p04060311.html\" tabindex=\"0\"><div class=\"products-category-grid-media-container\"><div class=\"media products-category-grid-media\"><div class=\"media__wrapper media__wrapper--fill\" style=\"padding-bottom:249.81%\"><img alt=\"SLIM FIT JEANS\" class=\"media-image__image media__wrapper--media\" data-qa-qualifier=\"media-image\" src=\"https://static.zara.net/stdstatic/5.9.0/images/transparent-background.png\"/></div></div></div></a><div class=\"product-grid-product__add-to-cart product-add-to-cart product-add-to-cart--full\"><div class=\"product-add-to-cart__toast\"></div><button aria-label=\"Add to cart\" class=\"product-add-to-cart__button\" data-qa-action=\"product-grid-open-size-selector\"><div class=\"product-add-to-cart__button-shade\"><svg class=\"product-add-to-cart__button-icon\" fill=\"none\" viewbox=\"0 0 7 7\" xmlns=\"http://www.w3.org/2000/svg\"><path d=\"M4 3.505V.255h-.5v3.25H.25v.5H3.5v3.25H4v-3.25h3.25v-.5H4z\"></path></svg></div></button></div></div><div class=\"product-grid-product__data\"><div class=\"product-grid-product__info-wrapper\"><div class=\"product-grid-product-info\"><div class=\"product-grid-product-info__product-header product-grid-product-info__product-header--with-wishlist\"><div class=\"product-grid-product-info__main-info\"><a class=\"product-link _item product-grid-product-info__name link\" data-qa-action=\"product-click\" draggable=\"false\" href=\"https://www.zara.com/us/en/slim-fit-jeans-p04060311.html\" tabindex=\"0\"><h3>SLIM FIT JEANS</h3></a><span class=\"product-grid-product-info-colors product-grid-product-info__colors\"><span class=\"product-grid-product-info-colors__bubble\" style=\"background-color:#738898\"></span><span class=\"product-grid-product-info-colors__text\">+<!-- -->5</span></span></div><div class=\"product-grid-product-info-wishlist\"><button aria-label=\"Add item to wishlist\" class=\"wishlist-bookmark product-grid-product-info-wishlist__wishlist-button add-item-to-wishlist-button\" data-qa-action=\"add-to-wishlist\" type=\"button\"><svg class=\"wishlist-icon wishlist-icon--grid\" fill=\"inherit\" height=\"24\" heigth=\"24\" preserveaspectratio=\"xMidYMid slice\" stroke=\"inherit\" viewbox=\"0 0 24 24\" width=\"24\" xmlns=\"http://www.w3.org/2000/svg\"><path clip-rule=\"evenodd\" d=\"M12 15.238L17 20V4H7v16l5-4.762zm-4 2.429l4-3.81 4 3.81V5H8v12.667z\" fill-rule=\"evenodd\"></path></svg></button></div><div class=\"product-grid-product-info__product-price price\"><span class=\"price__amount-wrapper\"><span class=\"price__amount\" data-qa-id=\"price-container-current\"><span class=\"price-current__amount\" data-qa-qualifier=\"price-amount-current\"><div class=\"money-amount price-formatted__price-amount\"><span class=\"money-amount__main\">45.90 USD</span></div></span></span></span></div></div></div></div></div></li><li class=\"product-grid-product _product carousel__item product-grid-product--ZOOM1-columns product-grid-product--4th-column\" data-pagenum=\"1\" data-productid=\"267195309\"><div class=\"product-grid-product__figure\"><a class=\"product-link product-grid-product__link link\" data-qa-action=\"product-click\" draggable=\"false\" href=\"https://www.zara.com/us/en/slim-cropped-jeans-p08062475.html\" tabindex=\"0\"><div class=\"products-category-grid-media-container\"><div class=\"media products-category-grid-media\"><div class=\"media__wrapper media__wrapper--fill\" style=\"padding-bottom:249.81%\"><img alt=\"SLIM CROPPED JEANS\" class=\"media-image__image media__wrapper--media\" data-qa-qualifier=\"media-image\" src=\"https://static.zara.net/stdstatic/5.9.0/images/transparent-background.png\"/></div></div></div></a><div class=\"product-grid-product__add-to-cart product-add-to-cart product-add-to-cart--full\"><div class=\"product-add-to-cart__toast\"></div><button aria-label=\"Add to cart\" class=\"product-add-to-cart__button\" data-qa-action=\"product-grid-open-size-selector\"><div class=\"product-add-to-cart__button-shade\"><svg class=\"product-add-to-cart__button-icon\" fill=\"none\" viewbox=\"0 0 7 7\" xmlns=\"http://www.w3.org/2000/svg\"><path d=\"M4 3.505V.255h-.5v3.25H.25v.5H3.5v3.25H4v-3.25h3.25v-.5H4z\"></path></svg></div></button></div></div><div class=\"product-grid-product__data\"><div class=\"product-grid-product__info-wrapper\"><div class=\"product-grid-product-info\"><div class=\"product-grid-product-info__product-header product-grid-product-info__product-header--with-wishlist\"><div class=\"product-grid-product-info__main-info\"><a class=\"product-link _item product-grid-product-info__name link\" data-qa-action=\"product-click\" draggable=\"false\" href=\"https://www.zara.com/us/en/slim-cropped-jeans-p08062475.html\" tabindex=\"0\"><h3>SLIM CROPPED JEANS</h3></a><span class=\"product-grid-product-info-colors product-grid-product-info__colors\"><span class=\"product-grid-product-info-colors__bubble\" style=\"background-color:#202125\"></span><span class=\"product-grid-product-info-colors__text\">+<!-- -->4</span></span></div><div class=\"product-grid-product-info-wishlist\"><button aria-label=\"Add item to wishlist\" class=\"wishlist-bookmark product-grid-product-info-wishlist__wishlist-button add-item-to-wishlist-button\" data-qa-action=\"add-to-wishlist\" type=\"button\"><svg class=\"wishlist-icon wishlist-icon--grid\" fill=\"inherit\" height=\"24\" heigth=\"24\" preserveaspectratio=\"xMidYMid slice\" stroke=\"inherit\" viewbox=\"0 0 24 24\" width=\"24\" xmlns=\"http://www.w3.org/2000/svg\"><path clip-rule=\"evenodd\" d=\"M12 15.238L17 20V4H7v16l5-4.762zm-4 2.429l4-3.81 4 3.81V5H8v12.667z\" fill-rule=\"evenodd\"></path></svg></button></div><div class=\"product-grid-product-info__product-price price\"><span class=\"price__amount-wrapper\"><span class=\"price__amount\" data-qa-id=\"price-container-current\"><span class=\"price-current__amount\" data-qa-qualifier=\"price-amount-current\"><div class=\"money-amount price-formatted__price-amount\"><span class=\"money-amount__main\">45.90 USD</span></div></span></span></span></div></div></div></div></div></li><li class=\"product-grid-product _product carousel__item product-grid-product--ZOOM1-columns product-grid-product--5th-column product-grid-product--is-row-end\" data-pagenum=\"1\" data-productid=\"272960844\"><div class=\"product-grid-product__figure\"><a class=\"product-link product-grid-product__link link\" data-qa-action=\"product-click\" draggable=\"false\" href=\"https://www.zara.com/us/en/straight-fit-jeans-p08062303.html\" tabindex=\"0\"><div class=\"products-category-grid-media-container\"><div class=\"media products-category-grid-media\"><div class=\"media__wrapper media__wrapper--fill\" style=\"padding-bottom:249.81%\"><img alt=\"STRAIGHT FIT JEANS\" class=\"media-image__image media__wrapper--media\" data-qa-qualifier=\"media-image\" src=\"https://static.zara.net/stdstatic/5.9.0/images/transparent-background.png\"/></div></div></div></a><div class=\"product-grid-product__add-to-cart product-add-to-cart product-add-to-cart--full\"><div class=\"product-add-to-cart__toast\"></div><button aria-label=\"Add to cart\" class=\"product-add-to-cart__button\" data-qa-action=\"product-grid-open-size-selector\"><div class=\"product-add-to-cart__button-shade\"><svg class=\"product-add-to-cart__button-icon\" fill=\"none\" viewbox=\"0 0 7 7\" xmlns=\"http://www.w3.org/2000/svg\"><path d=\"M4 3.505V.255h-.5v3.25H.25v.5H3.5v3.25H4v-3.25h3.25v-.5H4z\"></path></svg></div></button></div></div><div class=\"product-grid-product__data\"><div class=\"product-grid-product__info-wrapper\"><div class=\"product-grid-product-info\"><div class=\"product-grid-product-info__product-header product-grid-product-info__product-header--with-wishlist\"><div class=\"product-grid-product-info__main-info\"><a class=\"product-link _item product-grid-product-info__name link\" data-qa-action=\"product-click\" draggable=\"false\" href=\"https://www.zara.com/us/en/straight-fit-jeans-p08062303.html\" tabindex=\"0\"><h3>STRAIGHT FIT JEANS</h3></a><span class=\"product-grid-product-info-colors product-grid-product-info__colors\"><span class=\"product-grid-product-info-colors__bubble\" style=\"background-color:#313131\"></span><span class=\"product-grid-product-info-colors__text\">+<!-- -->7</span></span></div><div class=\"product-grid-product-info-wishlist\"><button aria-label=\"Add item to wishlist\" class=\"wishlist-bookmark product-grid-product-info-wishlist__wishlist-button add-item-to-wishlist-button\" data-qa-action=\"add-to-wishlist\" type=\"button\"><svg class=\"wishlist-icon wishlist-icon--grid\" fill=\"inherit\" height=\"24\" heigth=\"24\" preserveaspectratio=\"xMidYMid slice\" stroke=\"inherit\" viewbox=\"0 0 24 24\" width=\"24\" xmlns=\"http://www.w3.org/2000/svg\"><path clip-rule=\"evenodd\" d=\"M12 15.238L17 20V4H7v16l5-4.762zm-4 2.429l4-3.81 4 3.81V5H8v12.667z\" fill-rule=\"evenodd\"></path></svg></button></div><div class=\"product-grid-product-info__product-price price\"><span class=\"price__amount-wrapper\"><span class=\"price__amount\" data-qa-id=\"price-container-current\"><span class=\"price-current__amount\" data-qa-qualifier=\"price-amount-current\"><div class=\"money-amount price-formatted__price-amount\"><span class=\"money-amount__main\">49.90 USD</span></div></span></span></span></div></div></div></div></div></li><li class=\"product-grid-product _product carousel__item product-grid-product--ZOOM1-columns product-grid-product--0th-column product-grid-product--is-row-start\" data-pagenum=\"1\" data-productid=\"274046712\"><div class=\"product-grid-product__figure\"><a class=\"product-link product-grid-product__link link\" data-qa-action=\"product-click\" draggable=\"false\" href=\"https://www.zara.com/us/en/tapered-fit-jeans-p00840325.html\" tabindex=\"0\"><div class=\"products-category-grid-media-container\"><div class=\"media products-category-grid-media\"><div class=\"media__wrapper media__wrapper--fill\" style=\"padding-bottom:250.05%\"><img alt=\"TAPERED FIT JEANS\" class=\"media-image__image media__wrapper--media\" data-qa-qualifier=\"media-image\" src=\"https://static.zara.net/stdstatic/5.9.0/images/transparent-background.png\"/></div></div></div></a><div class=\"product-grid-product__add-to-cart product-add-to-cart product-add-to-cart--full\"><div class=\"product-add-to-cart__toast\"></div><button aria-label=\"Add to cart\" class=\"product-add-to-cart__button\" data-qa-action=\"product-grid-open-size-selector\"><div class=\"product-add-to-cart__button-shade\"><svg class=\"product-add-to-cart__button-icon\" fill=\"none\" viewbox=\"0 0 7 7\" xmlns=\"http://www.w3.org/2000/svg\"><path d=\"M4 3.505V.255h-.5v3.25H.25v.5H3.5v3.25H4v-3.25h3.25v-.5H4z\"></path></svg></div></button></div></div><div class=\"product-grid-product__data\"><div class=\"product-grid-product__info-wrapper\"><div class=\"product-grid-product-info\"><div class=\"product-grid-product-info__product-header product-grid-product-info__product-header--with-wishlist\"><div class=\"product-grid-product-info__main-info\"><a class=\"product-link _item product-grid-product-info__name link\" data-qa-action=\"product-click\" draggable=\"false\" href=\"https://www.zara.com/us/en/tapered-fit-jeans-p00840325.html\" tabindex=\"0\"><h3>TAPERED FIT JEANS</h3></a><span class=\"product-grid-product-info-colors product-grid-product-info__colors\"><span class=\"product-grid-product-info-colors__bubble\" style=\"background-color:#2C323A\"></span><span class=\"product-grid-product-info-colors__text\">+<!-- -->5</span></span></div><div class=\"product-grid-product-info-wishlist\"><button aria-label=\"Add item to wishlist\" class=\"wishlist-bookmark product-grid-product-info-wishlist__wishlist-button add-item-to-wishlist-button\" data-qa-action=\"add-to-wishlist\" type=\"button\"><svg class=\"wishlist-icon wishlist-icon--grid\" fill=\"inherit\" height=\"24\" heigth=\"24\" preserveaspectratio=\"xMidYMid slice\" stroke=\"inherit\" viewbox=\"0 0 24 24\" width=\"24\" xmlns=\"http://www.w3.org/2000/svg\"><path clip-rule=\"evenodd\" d=\"M12 15.238L17 20V4H7v16l5-4.762zm-4 2.429l4-3.81 4 3.81V5H8v12.667z\" fill-rule=\"evenodd\"></path></svg></button></div><div class=\"product-grid-product-info__product-price price\"><span class=\"price__amount-wrapper\"><span class=\"price__amount\" data-qa-id=\"price-container-current\"><span class=\"price-current__amount\" data-qa-qualifier=\"price-amount-current\"><div class=\"money-amount price-formatted__price-amount\"><span class=\"money-amount__main\">49.90 USD</span></div></span></span></span></div></div></div></div></div></li></ul></div></div>,\n",
       " <div class=\"carousel__container\"><div class=\"carousel__header\"></div><div class=\"carousel__viewport\"><ul class=\"carousel__items\" style=\"pointer-events:auto;transform:none\"><li class=\"product-grid-product _product carousel__item product-grid-product--ZOOM1-columns product-grid-product--0th-column product-grid-product--is-row-start\" data-pagenum=\"1\" data-productid=\"280492644\"><div class=\"product-grid-product__figure\"><a class=\"product-link product-grid-product__link link\" data-qa-action=\"product-click\" draggable=\"false\" href=\"https://www.zara.com/us/en/contrast-washed-jeans-p06688330.html\" tabindex=\"0\"><div class=\"products-category-grid-media-container\"><div class=\"media products-category-grid-media\"><div class=\"media__wrapper media__wrapper--fill\" style=\"padding-bottom:250.05%\"><img alt=\"CONTRAST WASHED JEANS\" class=\"media-image__image media__wrapper--media\" data-qa-qualifier=\"media-image\" src=\"https://static.zara.net/stdstatic/5.9.0/images/transparent-background.png\"/></div></div></div></a><div class=\"product-grid-product__add-to-cart product-add-to-cart product-add-to-cart--full\"><div class=\"product-add-to-cart__toast\"></div><button aria-label=\"Add to cart\" class=\"product-add-to-cart__button\" data-qa-action=\"product-grid-open-size-selector\"><div class=\"product-add-to-cart__button-shade\"><svg class=\"product-add-to-cart__button-icon\" fill=\"none\" viewbox=\"0 0 7 7\" xmlns=\"http://www.w3.org/2000/svg\"><path d=\"M4 3.505V.255h-.5v3.25H.25v.5H3.5v3.25H4v-3.25h3.25v-.5H4z\"></path></svg></div></button></div></div><div class=\"product-grid-product__data\"><div class=\"product-grid-product__info-wrapper\"><div class=\"product-grid-product-info\"><div class=\"product-grid-product-info__product-header product-grid-product-info__product-header--with-wishlist\"><div class=\"product-grid-product-info__main-info\"><a class=\"product-link _item product-grid-product-info__name link\" data-qa-action=\"product-click\" draggable=\"false\" href=\"https://www.zara.com/us/en/contrast-washed-jeans-p06688330.html\" tabindex=\"0\"><h3>CONTRAST WASHED JEANS</h3></a></div><div class=\"product-grid-product-info-wishlist\"><button aria-label=\"Add item to wishlist\" class=\"wishlist-bookmark product-grid-product-info-wishlist__wishlist-button add-item-to-wishlist-button\" data-qa-action=\"add-to-wishlist\" type=\"button\"><svg class=\"wishlist-icon wishlist-icon--grid\" fill=\"inherit\" height=\"24\" heigth=\"24\" preserveaspectratio=\"xMidYMid slice\" stroke=\"inherit\" viewbox=\"0 0 24 24\" width=\"24\" xmlns=\"http://www.w3.org/2000/svg\"><path clip-rule=\"evenodd\" d=\"M12 15.238L17 20V4H7v16l5-4.762zm-4 2.429l4-3.81 4 3.81V5H8v12.667z\" fill-rule=\"evenodd\"></path></svg></button></div><div class=\"product-grid-product-info__product-price price\"><span class=\"price__amount-wrapper\"><span class=\"price__amount\" data-qa-id=\"price-container-current\"><span class=\"price-current__amount\" data-qa-qualifier=\"price-amount-current\"><div class=\"money-amount price-formatted__price-amount\"><span class=\"money-amount__main\">69.90 USD</span></div></span></span></span></div></div></div></div></div></li><li class=\"product-grid-product _product carousel__item product-grid-product--ZOOM1-columns product-grid-product--1th-column\" data-pagenum=\"1\" data-productid=\"280251815\"><div class=\"product-grid-product__figure\"><a class=\"product-link product-grid-product__link link\" data-qa-action=\"product-click\" draggable=\"false\" href=\"https://www.zara.com/us/en/baggy-fit-jeans-p02553353.html\" tabindex=\"0\"><div class=\"products-category-grid-media-container\"><div class=\"media products-category-grid-media\"><div class=\"media__wrapper media__wrapper--fill\" style=\"padding-bottom:250.15%\"><img alt=\"BAGGY FIT JEANS\" class=\"media-image__image media__wrapper--media\" data-qa-qualifier=\"media-image\" src=\"https://static.zara.net/stdstatic/5.9.0/images/transparent-background.png\"/></div></div></div></a><div class=\"product-grid-product__add-to-cart product-add-to-cart product-add-to-cart--full\"><div class=\"product-add-to-cart__toast\"></div><button aria-label=\"Add to cart\" class=\"product-add-to-cart__button\" data-qa-action=\"product-grid-open-size-selector\"><div class=\"product-add-to-cart__button-shade\"><svg class=\"product-add-to-cart__button-icon\" fill=\"none\" viewbox=\"0 0 7 7\" xmlns=\"http://www.w3.org/2000/svg\"><path d=\"M4 3.505V.255h-.5v3.25H.25v.5H3.5v3.25H4v-3.25h3.25v-.5H4z\"></path></svg></div></button></div></div><div class=\"product-grid-product__data\"><div class=\"product-grid-product__info-wrapper\"><div class=\"product-grid-product-info\"><div class=\"product-grid-product-info__product-header product-grid-product-info__product-header--with-wishlist\"><div class=\"product-grid-product-info__main-info\"><a class=\"product-link _item product-grid-product-info__name link\" data-qa-action=\"product-click\" draggable=\"false\" href=\"https://www.zara.com/us/en/baggy-fit-jeans-p02553353.html\" tabindex=\"0\"><h3>BAGGY FIT JEANS</h3></a></div><div class=\"product-grid-product-info-wishlist\"><button aria-label=\"Add item to wishlist\" class=\"wishlist-bookmark product-grid-product-info-wishlist__wishlist-button add-item-to-wishlist-button\" data-qa-action=\"add-to-wishlist\" type=\"button\"><svg class=\"wishlist-icon wishlist-icon--grid\" fill=\"inherit\" height=\"24\" heigth=\"24\" preserveaspectratio=\"xMidYMid slice\" stroke=\"inherit\" viewbox=\"0 0 24 24\" width=\"24\" xmlns=\"http://www.w3.org/2000/svg\"><path clip-rule=\"evenodd\" d=\"M12 15.238L17 20V4H7v16l5-4.762zm-4 2.429l4-3.81 4 3.81V5H8v12.667z\" fill-rule=\"evenodd\"></path></svg></button></div><div class=\"product-grid-product-info__product-price price\"><span class=\"price__amount-wrapper\"><span class=\"price__amount\" data-qa-id=\"price-container-current\"><span class=\"price-current__amount\" data-qa-qualifier=\"price-amount-current\"><div class=\"money-amount price-formatted__price-amount\"><span class=\"money-amount__main\">69.90 USD</span></div></span></span></span></div></div></div></div></div></li><li class=\"product-grid-product _product carousel__item product-grid-product--ZOOM1-columns product-grid-product--2th-column\" data-pagenum=\"1\" data-productid=\"288456751\"><div class=\"product-grid-product__figure\"><a class=\"product-link product-grid-product__link link\" data-qa-action=\"product-click\" draggable=\"false\" href=\"https://www.zara.com/us/en/zippered-jeans-p03175315.html\" tabindex=\"0\"><div class=\"products-category-grid-media-container\"><div class=\"media products-category-grid-media\"><div class=\"media__wrapper media__wrapper--fill\" style=\"padding-bottom:249.81%\"><img alt=\"ZIPPERED JEANS\" class=\"media-image__image media__wrapper--media\" data-qa-qualifier=\"media-image\" src=\"https://static.zara.net/stdstatic/5.9.0/images/transparent-background.png\"/></div></div></div></a><div class=\"product-grid-product__add-to-cart product-add-to-cart product-add-to-cart--full\"><div class=\"product-add-to-cart__toast\"></div><button aria-label=\"Add to cart\" class=\"product-add-to-cart__button\" data-qa-action=\"product-grid-open-size-selector\"><div class=\"product-add-to-cart__button-shade\"><svg class=\"product-add-to-cart__button-icon\" fill=\"none\" viewbox=\"0 0 7 7\" xmlns=\"http://www.w3.org/2000/svg\"><path d=\"M4 3.505V.255h-.5v3.25H.25v.5H3.5v3.25H4v-3.25h3.25v-.5H4z\"></path></svg></div></button></div></div><div class=\"product-grid-product__data\"><div class=\"product-grid-product__info-wrapper\"><div class=\"product-grid-product-info\"><div class=\"product-grid-product-info__product-header product-grid-product-info__product-header--with-wishlist\"><div class=\"product-grid-product-info__main-info\"><a class=\"product-link _item product-grid-product-info__name link\" data-qa-action=\"product-click\" draggable=\"false\" href=\"https://www.zara.com/us/en/zippered-jeans-p03175315.html\" tabindex=\"0\"><h3>ZIPPERED JEANS</h3></a><span class=\"product-grid-product-info-colors product-grid-product-info__colors\"><span class=\"product-grid-product-info-colors__bubble\" style=\"background-color:#191919\"></span><span class=\"product-grid-product-info-colors__text\">+<!-- -->1</span></span></div><div class=\"product-grid-product-info-wishlist\"><button aria-label=\"Add item to wishlist\" class=\"wishlist-bookmark product-grid-product-info-wishlist__wishlist-button add-item-to-wishlist-button\" data-qa-action=\"add-to-wishlist\" type=\"button\"><svg class=\"wishlist-icon wishlist-icon--grid\" fill=\"inherit\" height=\"24\" heigth=\"24\" preserveaspectratio=\"xMidYMid slice\" stroke=\"inherit\" viewbox=\"0 0 24 24\" width=\"24\" xmlns=\"http://www.w3.org/2000/svg\"><path clip-rule=\"evenodd\" d=\"M12 15.238L17 20V4H7v16l5-4.762zm-4 2.429l4-3.81 4 3.81V5H8v12.667z\" fill-rule=\"evenodd\"></path></svg></button></div><div class=\"product-grid-product-info__product-price price\"><span class=\"price__amount-wrapper\"><span class=\"price__amount\" data-qa-id=\"price-container-current\"><span class=\"price-current__amount\" data-qa-qualifier=\"price-amount-current\"><div class=\"money-amount price-formatted__price-amount\"><span class=\"money-amount__main\">89.90 USD</span></div></span></span></span></div></div></div></div></div></li><li class=\"product-grid-product _product carousel__item product-grid-product--ZOOM1-columns product-grid-product--3th-column\" data-pagenum=\"1\" data-productid=\"294680721\"><div class=\"product-grid-product__figure\"><a class=\"product-link product-grid-product__link link\" data-qa-action=\"product-click\" draggable=\"false\" href=\"https://www.zara.com/us/en/straight-fit-cargo-jeans-p08062310.html\" tabindex=\"0\"><div class=\"products-category-grid-media-container\"><div class=\"media products-category-grid-media\"><div class=\"media__wrapper media__wrapper--fill\" style=\"padding-bottom:250.05%\"><img alt=\"STRAIGHT FIT CARGO JEANS\" class=\"media-image__image media__wrapper--media\" data-qa-qualifier=\"media-image\" src=\"https://static.zara.net/stdstatic/5.9.0/images/transparent-background.png\"/></div></div></div></a><div class=\"product-grid-product__add-to-cart product-add-to-cart product-add-to-cart--full\"><div class=\"product-add-to-cart__toast\"></div><button aria-label=\"Add to cart\" class=\"product-add-to-cart__button\" data-qa-action=\"product-grid-open-size-selector\"><div class=\"product-add-to-cart__button-shade\"><svg class=\"product-add-to-cart__button-icon\" fill=\"none\" viewbox=\"0 0 7 7\" xmlns=\"http://www.w3.org/2000/svg\"><path d=\"M4 3.505V.255h-.5v3.25H.25v.5H3.5v3.25H4v-3.25h3.25v-.5H4z\"></path></svg></div></button></div></div><div class=\"product-grid-product__data\"><div class=\"product-grid-product__info-wrapper\"><div class=\"product-grid-product-info\"><div class=\"product-grid-product-info__product-header product-grid-product-info__product-header--with-wishlist\"><div class=\"product-grid-product-info__main-info\"><a class=\"product-link _item product-grid-product-info__name link\" data-qa-action=\"product-click\" draggable=\"false\" href=\"https://www.zara.com/us/en/straight-fit-cargo-jeans-p08062310.html\" tabindex=\"0\"><h3>STRAIGHT FIT CARGO JEANS</h3></a><span class=\"product-grid-product-info-colors product-grid-product-info__colors\"><span class=\"product-grid-product-info-colors__bubble\" style=\"background-color:#C3B19D\"></span><span class=\"product-grid-product-info-colors__text\">+<!-- -->2</span></span></div><div class=\"product-grid-product-info-wishlist\"><button aria-label=\"Add item to wishlist\" class=\"wishlist-bookmark product-grid-product-info-wishlist__wishlist-button add-item-to-wishlist-button\" data-qa-action=\"add-to-wishlist\" type=\"button\"><svg class=\"wishlist-icon wishlist-icon--grid\" fill=\"inherit\" height=\"24\" heigth=\"24\" preserveaspectratio=\"xMidYMid slice\" stroke=\"inherit\" viewbox=\"0 0 24 24\" width=\"24\" xmlns=\"http://www.w3.org/2000/svg\"><path clip-rule=\"evenodd\" d=\"M12 15.238L17 20V4H7v16l5-4.762zm-4 2.429l4-3.81 4 3.81V5H8v12.667z\" fill-rule=\"evenodd\"></path></svg></button></div><div class=\"product-grid-product-info__product-price price\"><span class=\"price__amount-wrapper\"><span class=\"price__amount\" data-qa-id=\"price-container-current\"><span class=\"price-current__amount\" data-qa-qualifier=\"price-amount-current\"><div class=\"money-amount price-formatted__price-amount\"><span class=\"money-amount__main\">49.90 USD</span></div></span></span></span></div></div></div></div></div></li><li class=\"product-grid-product _product carousel__item product-grid-product--ZOOM1-columns product-grid-product--4th-column\" data-pagenum=\"1\" data-productid=\"283109089\"><div class=\"product-grid-product__figure\"><a class=\"product-link product-grid-product__link link\" data-qa-action=\"product-click\" draggable=\"false\" href=\"https://www.zara.com/us/en/straight-fit-overdyed-jeans-p09794302.html\" tabindex=\"0\"><div class=\"products-category-grid-media-container\"><div class=\"media products-category-grid-media\"><div class=\"media__wrapper media__wrapper--fill\" style=\"padding-bottom:249.9%\"><img alt=\"STRAIGHT FIT OVERDYED JEANS\" class=\"media-image__image media__wrapper--media\" data-qa-qualifier=\"media-image\" src=\"https://static.zara.net/stdstatic/5.9.0/images/transparent-background.png\"/></div></div></div></a><div class=\"product-grid-product__add-to-cart product-add-to-cart product-add-to-cart--full\"><div class=\"product-add-to-cart__toast\"></div><button aria-label=\"Add to cart\" class=\"product-add-to-cart__button\" data-qa-action=\"product-grid-open-size-selector\"><div class=\"product-add-to-cart__button-shade\"><svg class=\"product-add-to-cart__button-icon\" fill=\"none\" viewbox=\"0 0 7 7\" xmlns=\"http://www.w3.org/2000/svg\"><path d=\"M4 3.505V.255h-.5v3.25H.25v.5H3.5v3.25H4v-3.25h3.25v-.5H4z\"></path></svg></div></button></div></div><div class=\"product-grid-product__data\"><div class=\"product-grid-product__info-wrapper\"><div class=\"product-grid-product-info\"><div class=\"product-grid-product-info__product-header product-grid-product-info__product-header--with-wishlist\"><div class=\"product-grid-product-info__main-info\"><a class=\"product-link _item product-grid-product-info__name link\" data-qa-action=\"product-click\" draggable=\"false\" href=\"https://www.zara.com/us/en/straight-fit-overdyed-jeans-p09794302.html\" tabindex=\"0\"><h3>STRAIGHT FIT OVERDYED JEANS</h3></a></div><div class=\"product-grid-product-info-wishlist\"><button aria-label=\"Add item to wishlist\" class=\"wishlist-bookmark product-grid-product-info-wishlist__wishlist-button add-item-to-wishlist-button\" data-qa-action=\"add-to-wishlist\" type=\"button\"><svg class=\"wishlist-icon wishlist-icon--grid\" fill=\"inherit\" height=\"24\" heigth=\"24\" preserveaspectratio=\"xMidYMid slice\" stroke=\"inherit\" viewbox=\"0 0 24 24\" width=\"24\" xmlns=\"http://www.w3.org/2000/svg\"><path clip-rule=\"evenodd\" d=\"M12 15.238L17 20V4H7v16l5-4.762zm-4 2.429l4-3.81 4 3.81V5H8v12.667z\" fill-rule=\"evenodd\"></path></svg></button></div><div class=\"product-grid-product-info__product-price price\"><span class=\"price__amount-wrapper\"><span class=\"price__amount\" data-qa-id=\"price-container-current\"><span class=\"price-current__amount\" data-qa-qualifier=\"price-amount-current\"><div class=\"money-amount price-formatted__price-amount\"><span class=\"money-amount__main\">69.90 USD</span></div></span></span></span></div></div></div></div></div></li></ul></div></div>]"
      ]
     },
     "execution_count": 10,
     "metadata": {},
     "output_type": "execute_result"
    }
   ],
   "source": [
    "#re=soup.find_all('div', class_='carousel__container')\n",
    "#re"
   ]
  },
  {
   "cell_type": "code",
   "execution_count": 24,
   "id": "7f501e7f",
   "metadata": {},
   "outputs": [
    {
     "data": {
      "text/plain": [
       "20"
      ]
     },
     "execution_count": 24,
     "metadata": {},
     "output_type": "execute_result"
    }
   ],
   "source": [
    "len(re[0].find_all('a'))"
   ]
  },
  {
   "cell_type": "code",
   "execution_count": 31,
   "id": "1ad7bc3a",
   "metadata": {},
   "outputs": [
    {
     "name": "stdout",
     "output_type": "stream",
     "text": [
      "['https://www.zara.com/us/en/vintage-baggy-jeans-p06688310.html', 'https://www.zara.com/us/en/straight-fit-jeans-p08062303.html', 'https://www.zara.com/us/en/utility-pocket-pants-p05575375.html', 'https://www.zara.com/us/en/overdyed-vintage-jeans-p08062307.html', 'https://www.zara.com/us/en/slim-fit-jeans-p01538356.html', 'https://www.zara.com/us/en/skinny-jeans-p05575320.html', 'https://www.zara.com/us/en/waxed-effect-jeans-p06688302.html', 'https://www.zara.com/us/en/straight-fit-jeans-p01538378.html', 'https://www.zara.com/us/en/straight-fit-jeans-p08062320.html', 'https://www.zara.com/us/en/slim-fit-jeans-p04060311.html']\n",
      "['https://www.zara.com/us/en/straight-fit-jeans-p08062303.html', 'https://www.zara.com/us/en/slim-fit-jeans-p00774330.html', 'https://www.zara.com/us/en/skinny-jeans-p05575320.html', 'https://www.zara.com/us/en/slim-fit-jeans-p04060311.html', 'https://www.zara.com/us/en/slim-cropped-jeans-p08062475.html', 'https://www.zara.com/us/en/tapered-fit-jeans-p00840325.html']\n",
      "['https://www.zara.com/us/en/contrast-washed-jeans-p06688330.html', 'https://www.zara.com/us/en/baggy-fit-jeans-p02553353.html', 'https://www.zara.com/us/en/zippered-jeans-p03175315.html', 'https://www.zara.com/us/en/straight-fit-cargo-jeans-p08062310.html', 'https://www.zara.com/us/en/straight-fit-overdyed-jeans-p09794302.html']\n"
     ]
    }
   ],
   "source": [
    "re=soup.find_all('div', class_='carousel__container')\n",
    "new=[]\n",
    "best=[]\n",
    "trending=[]\n",
    "for i in range(len(re)):\n",
    "    if i==0:\n",
    "        a=re[i].find_all('a')\n",
    "        for j in range(len(a)):\n",
    "            if a[j].get('href') not in new:\n",
    "                new.append(a[j].get('href'))\n",
    "    elif i==1:\n",
    "        a=re[i].find_all('a')\n",
    "        for j in range(len(a)):\n",
    "            if a[j].get('href') not in best:\n",
    "                best.append(a[j].get('href'))\n",
    "    \n",
    "    else:\n",
    "        a=re[i].find_all('a')\n",
    "        for j in range(len(a)):\n",
    "            if a[j].get('href') not in trending:\n",
    "                trending.append(a[j].get('href'))\n",
    "\n",
    "print(new)\n",
    "print(best)\n",
    "print(trending)"
   ]
  },
  {
   "cell_type": "code",
   "execution_count": 32,
   "id": "6f881908",
   "metadata": {},
   "outputs": [],
   "source": [
    "#import requests\n",
    "#import random\n",
    "\n",
    "#headers_list = [\n",
    "    # Firefox 77 Mac\n",
    "    {\n",
    "    \"User-Agent\": \"Mozilla/5.0 (Macintosh; Intel Mac OS X 10.15; rv:77.0) Gecko/20100101 Firefox/77.0\",\n",
    "    \"Accept\": \"text/html,application/xhtml+xml,application/xml;q=0.9,image/webp,*/*;q=0.8\",\n",
    "    \"Accept-Language\": \"en-US,en;q=0.5\",\n",
    "    \"Referer\": \"https://www.google.com/\",\n",
    "    \"DNT\": \"1\",\n",
    "    \"Connection\": \"keep-alive\",\n",
    "    \"Upgrade-Insecure-Requests\": \"1\"\n",
    "    },\n",
    "    # Chrome 92.0 Win10\n",
    "    {\n",
    "    \"User-Agent\": \"Mozilla/5.0 (Windows NT 10.0; Win64; x64) AppleWebKit/537.36 (KHTML, like Gecko) Chrome/92.0.4515.107 Safari/537.36\",\n",
    "    \"Accept\": \"text/html,application/xhtml+xml,application/xml;q=0.9,image/webp,*/*;q=0.8\",\n",
    "    \"Accept-Language\": \"en-US,en;q=0.5\",\n",
    "    \"Accept-Encoding\": \"gzip, deflate, br\",\n",
    "    \"Referer\": \"https://www.google.com/\",\n",
    "    \"DNT\": \"1\",\n",
    "    \"Connection\": \"keep-alive\",\n",
    "    \"Upgrade-Insecure-Requests\": \"1\"\n",
    "    },\n",
    "    # Chrome 91.0 Win10\n",
    "    {\n",
    "    \"Connection\": \"keep-alive\",\n",
    "    \"DNT\": \"1\",\n",
    "    \"Upgrade-Insecure-Requests\": \"1\",\n",
    "    \"User-Agent\": \"Mozilla/5.0 (Windows NT 10.0; Win64; x64) AppleWebKit/537.36 (KHTML, like Gecko) Chrome/91.0.4472.124 Safari/537.36\",\n",
    "    \"Accept\": \"text/html,application/xhtml+xml,application/xml;q=0.9,image/webp,image/apng,*/*;q=0.8,application/signed-exchange;v=b3;q=0.9\",\n",
    "    \"Sec-Fetch-Site\": \"none\",\n",
    "    \"Sec-Fetch-Mode\": \"navigate\",\n",
    "    \"Sec-Fetch-Dest\": \"document\",\n",
    "    \"Referer\": \"https://www.google.com/\",\n",
    "    \"Accept-Encoding\": \"gzip, deflate, br\",\n",
    "    \"Accept-Language\": \"en-GB,en-US;q=0.9,en;q=0.8\"\n",
    "    },\n",
    "    # Firefox 90.0 Win10\n",
    "    {\n",
    "    \"Connection\": \"keep-alive\",\n",
    "    \"Upgrade-Insecure-Requests\": \"1\",\n",
    "    \"User-Agent\": \"Mozilla/5.0 (Windows NT 10.0; Win64; x64; rv:90.0) Gecko/20100101 Firefox/90.0\",\n",
    "    \"Accept\": \"text/html,application/xhtml+xml,application/xml;q=0.9,image/webp,image/apng,*/*;q=0.8,application/signed-exchange;v=b3;q=0.9\",\n",
    "    \"Sec-Fetch-Site\": \"same-origin\",\n",
    "    \"Sec-Fetch-Mode\": \"navigate\",\n",
    "    \"Sec-Fetch-User\": \"?1\",\n",
    "    \"Sec-Fetch-Dest\": \"document\",\n",
    "    \"Referer\": \"https://www.google.com/\",\n",
    "    \"Accept-Encoding\": \"gzip, deflate, br\",\n",
    "    \"Accept-Language\": \"en-US,en;q=0.9\"\n",
    "    }\n",
    "]\n",
    "\n"
   ]
  },
  {
   "cell_type": "code",
   "execution_count": 39,
   "id": "0276b713",
   "metadata": {},
   "outputs": [
    {
     "name": "stderr",
     "output_type": "stream",
     "text": [
      "<ipython-input-39-e512ac1047b9>:6: DeprecationWarning: Firefox will soon stop logging to geckodriver.log by default; Specify desired logs with log_output\n",
      "  driver = webdriver.Firefox(service=Service(GeckoDriverManager().install()), options = firefox_options)\n",
      "<ipython-input-39-e512ac1047b9>:12: DeprecationWarning: Firefox will soon stop logging to geckodriver.log by default; Specify desired logs with log_output\n",
      "  driver = webdriver.Firefox(service=Service(GeckoDriverManager().install()), options = firefox_options)\n"
     ]
    }
   ],
   "source": [
    "firefox_options = Options()\n",
    "#firefox_options.add_argument('--headless')\n",
    "firefox_options.add_argument('--no-sandbox')\n",
    "firefox_options.add_argument('--disable-dev-shm-usage')\n",
    "\n",
    "driver = webdriver.Firefox(service=Service(GeckoDriverManager().install()), options = firefox_options)\n",
    "\n",
    "time.sleep(3)\n",
    "driver.quit()\n",
    "\n",
    "\n",
    "driver = webdriver.Firefox(service=Service(GeckoDriverManager().install()), options = firefox_options)\n",
    "driver.get(new[0]) \n",
    "\n",
    "\n",
    "SCROLL_PAUSE_TIME = 10\n",
    "\n",
    "   \n",
    "last_height = driver.execute_script(\"return document.body.scrollHeight\")\n",
    "wait = WebDriverWait(driver, 10)\n",
    "while True:\n",
    "    driver.execute_script(\"window.scrollTo(0, document.body.scrollHeight);\")\n",
    "    time.sleep(SCROLL_PAUSE_TIME)\n",
    "    new_height = driver.execute_script(\"return document.body.scrollHeight\")\n",
    "    if new_height == last_height:\n",
    "        break\n",
    "    last_height = new_height\n",
    "    wait = WebDriverWait(driver, 20)\n",
    "wait.until(EC.visibility_of_element_located((By.CSS_SELECTOR, \"[href='https://static.zara.net/static//pdfs/US/privacy-policy/privacy-policy-en_US-20230726.pdf']\")))\n",
    "  \n",
    "html = driver.page_source \n",
    "soup = bs(html, 'html.parser')"
   ]
  },
  {
   "cell_type": "code",
   "execution_count": 43,
   "id": "b1e8698f",
   "metadata": {},
   "outputs": [
    {
     "data": {
      "text/plain": [
       "'VINTAGE BAGGY JEANS'"
      ]
     },
     "execution_count": 43,
     "metadata": {},
     "output_type": "execute_result"
    }
   ],
   "source": [
    "soup.find_all('div', class_=\"product-detail-info__header\")[0].get_text()"
   ]
  },
  {
   "cell_type": "code",
   "execution_count": 44,
   "id": "9b014af7",
   "metadata": {},
   "outputs": [
    {
     "data": {
      "text/plain": [
       "'69.90 USD'"
      ]
     },
     "execution_count": 44,
     "metadata": {},
     "output_type": "execute_result"
    }
   ],
   "source": [
    "soup.find_all('div', class_=\"product-detail-info__price\")[0].get_text()"
   ]
  },
  {
   "cell_type": "code",
   "execution_count": 46,
   "id": "404b5f82",
   "metadata": {},
   "outputs": [
    {
     "data": {
      "text/plain": [
       "'Baggy fit jeans. Five pockets. Washed vintage effect with rips at legs. Uneven hem. Front zip and button closure.'"
      ]
     },
     "execution_count": 46,
     "metadata": {},
     "output_type": "execute_result"
    }
   ],
   "source": [
    "soup.find('div',class_=\"product-detail-description product-detail-info__description\").get_text()"
   ]
  },
  {
   "cell_type": "code",
   "execution_count": 48,
   "id": "68983ca6",
   "metadata": {},
   "outputs": [
    {
     "data": {
      "text/plain": [
       "'100% cotton'"
      ]
     },
     "execution_count": 48,
     "metadata": {},
     "output_type": "execute_result"
    }
   ],
   "source": [
    "soup.find_all('div',class_=\"structured-component-text-block-paragraph\")[1].get_text()"
   ]
  },
  {
   "cell_type": "code",
   "execution_count": 51,
   "id": "1aedf5a1",
   "metadata": {},
   "outputs": [
    {
     "data": {
      "text/plain": [
       "'Mid-blue | 6688/310'"
      ]
     },
     "execution_count": 51,
     "metadata": {},
     "output_type": "execute_result"
    }
   ],
   "source": [
    "soup.find_all('div',class_=\"product-detail-info__actions\")[0].find('p').get_text()"
   ]
  },
  {
   "cell_type": "code",
   "execution_count": 55,
   "id": "15e8cdad",
   "metadata": {},
   "outputs": [
    {
     "name": "stderr",
     "output_type": "stream",
     "text": [
      "<ipython-input-55-a1c8a2efe759>:6: DeprecationWarning: Firefox will soon stop logging to geckodriver.log by default; Specify desired logs with log_output\n",
      "  driver = webdriver.Firefox(service=Service(GeckoDriverManager().install()), options = firefox_options)\n",
      "<ipython-input-55-a1c8a2efe759>:12: DeprecationWarning: Firefox will soon stop logging to geckodriver.log by default; Specify desired logs with log_output\n",
      "  driver = webdriver.Firefox(service=Service(GeckoDriverManager().install()), options = firefox_options)\n"
     ]
    },
    {
     "name": "stdout",
     "output_type": "stream",
     "text": [
      "https://www.zara.com/us/en/vintage-baggy-jeans-p06688310.html\n",
      "https://www.zara.com/us/en/straight-fit-jeans-p08062303.html\n",
      "https://www.zara.com/us/en/utility-pocket-pants-p05575375.html\n",
      "https://www.zara.com/us/en/overdyed-vintage-jeans-p08062307.html\n",
      "https://www.zara.com/us/en/slim-fit-jeans-p01538356.html\n",
      "https://www.zara.com/us/en/skinny-jeans-p05575320.html\n",
      "https://www.zara.com/us/en/waxed-effect-jeans-p06688302.html\n",
      "https://www.zara.com/us/en/straight-fit-jeans-p01538378.html\n",
      "https://www.zara.com/us/en/straight-fit-jeans-p08062320.html\n",
      "https://www.zara.com/us/en/slim-fit-jeans-p04060311.html\n"
     ]
    }
   ],
   "source": [
    "firefox_options = Options()\n",
    "    #firefox_options.add_argument('--headless')\n",
    "firefox_options.add_argument('--no-sandbox')\n",
    "firefox_options.add_argument('--disable-dev-shm-usage')\n",
    "\n",
    "driver = webdriver.Firefox(service=Service(GeckoDriverManager().install()), options = firefox_options)\n",
    "\n",
    "time.sleep(3)\n",
    "driver.quit()\n",
    "\n",
    "\n",
    "driver = webdriver.Firefox(service=Service(GeckoDriverManager().install()), options = firefox_options)\n",
    "\n",
    "\n",
    "name=[]\n",
    "color=[]\n",
    "price=[]\n",
    "info=[]\n",
    "material=[]\n",
    "for l in new:\n",
    "    \n",
    "    print(l)\n",
    "    \n",
    "    driver.get(l)\n",
    "    #assert 'Gap' in driver.title \n",
    "    \n",
    "    SCROLL_PAUSE_TIME = 30\n",
    "    last_height = driver.execute_script(\"return document.body.scrollHeight\")\n",
    "    wait = WebDriverWait(driver, 10)\n",
    "    while True:\n",
    "        driver.execute_script(\"window.scrollTo(0, document.body.scrollHeight);\")\n",
    "        time.sleep(SCROLL_PAUSE_TIME)\n",
    "        new_height = driver.execute_script(\"return document.body.scrollHeight\")\n",
    "        if new_height == last_height:\n",
    "            break\n",
    "        last_height = new_height\n",
    "        wait = WebDriverWait(driver, 10)\n",
    "    wait.until(EC.visibility_of_element_located((By.CSS_SELECTOR, \"[href='https://static.zara.net/static//pdfs/US/privacy-policy/privacy-policy-en_US-20230726.pdf']\")))\n",
    "    html1 = driver.page_source \n",
    "    soup1 = bs(html1, 'html.parser')\n",
    "    \n",
    "    name.append(soup1.find_all('div', class_=\"product-detail-info__header\")[0].get_text())\n",
    "    color.append(soup1.find_all('div',class_=\"product-detail-info__actions\")[0].find('p').get_text())\n",
    "    price.append(soup1.find_all('div', class_=\"product-detail-info__price\")[0].get_text())\n",
    "    info.append(soup1.find('div',class_=\"product-detail-description product-detail-info__description\").get_text())\n",
    "    material.append(soup1.find_all('div',class_=\"structured-component-text-block-paragraph\")[1].get_text())\n"
   ]
  },
  {
   "cell_type": "code",
   "execution_count": 53,
   "id": "e5eb4529",
   "metadata": {},
   "outputs": [
    {
     "data": {
      "text/plain": [
       "['VINTAGE BAGGY JEANS',\n",
       " 'STRAIGHT FIT JEANS',\n",
       " 'UTILITY POCKET PANTS',\n",
       " 'OVERDYED VINTAGE JEANS',\n",
       " 'SLIM FIT JEANS',\n",
       " 'SKINNY JEANS',\n",
       " 'WAXED EFFECT JEANS',\n",
       " 'STRAIGHT FIT JEANS',\n",
       " 'STRAIGHT FIT JEANS',\n",
       " 'SLIM FIT JEANS']"
      ]
     },
     "execution_count": 53,
     "metadata": {},
     "output_type": "execute_result"
    }
   ],
   "source": [
    "name"
   ]
  },
  {
   "cell_type": "code",
   "execution_count": 54,
   "id": "66fc8498",
   "metadata": {},
   "outputs": [
    {
     "data": {
      "text/plain": [
       "['69.90 USD',\n",
       " '49.90 USD',\n",
       " '89.90 USD',\n",
       " '69.90 USD',\n",
       " '59.90 USD',\n",
       " '45.90 USD',\n",
       " '89.90 USD',\n",
       " '49.90 USD',\n",
       " '49.90 USD',\n",
       " '45.90 USD']"
      ]
     },
     "execution_count": 54,
     "metadata": {},
     "output_type": "execute_result"
    }
   ],
   "source": [
    "price"
   ]
  },
  {
   "cell_type": "code",
   "execution_count": 56,
   "id": "d111f495",
   "metadata": {},
   "outputs": [],
   "source": [
    "Output_File = open(\"C:/Users/oyo/Desktop/Web data/zara_new.csv\", \"w\", encoding=\"utf-8\")\n",
    "\n",
    "Output_File.write(\"Name,Color,Price,Info\\n\")\n",
    "for x in range(0, len(name)):\n",
    "    Output_File.write(str(name[x].replace(',',\" \")) + ',' + str(color[x].replace(',',\" \")) + ','+ str(price[x].replace(',',\" \")) + ','+str(material[x].replace(',',\" \")) + ','+str(info[x].replace(',',\" \")) + '\\n')\n",
    "\n",
    "Output_File.close()"
   ]
  },
  {
   "cell_type": "code",
   "execution_count": null,
   "id": "45ce5d62",
   "metadata": {},
   "outputs": [],
   "source": []
  }
 ],
 "metadata": {
  "kernelspec": {
   "display_name": "Python 3",
   "language": "python",
   "name": "python3"
  },
  "language_info": {
   "codemirror_mode": {
    "name": "ipython",
    "version": 3
   },
   "file_extension": ".py",
   "mimetype": "text/x-python",
   "name": "python",
   "nbconvert_exporter": "python",
   "pygments_lexer": "ipython3",
   "version": "3.8.8"
  }
 },
 "nbformat": 4,
 "nbformat_minor": 5
}
