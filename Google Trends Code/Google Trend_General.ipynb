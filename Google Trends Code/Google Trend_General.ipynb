{
 "cells": [
  {
   "cell_type": "code",
   "execution_count": 2,
   "id": "a7ccd111",
   "metadata": {},
   "outputs": [
    {
     "name": "stdout",
     "output_type": "stream",
     "text": [
      "Collecting pytrends\n",
      "  Downloading pytrends-4.9.2-py3-none-any.whl (15 kB)\n",
      "Requirement already satisfied: requests>=2.0 in c:\\users\\avish\\anaconda3\\lib\\site-packages (from pytrends) (2.31.0)\n",
      "Requirement already satisfied: pandas>=0.25 in c:\\users\\avish\\anaconda3\\lib\\site-packages (from pytrends) (1.5.3)\n",
      "Requirement already satisfied: lxml in c:\\users\\avish\\anaconda3\\lib\\site-packages (from pytrends) (4.9.2)\n",
      "Requirement already satisfied: python-dateutil>=2.8.1 in c:\\users\\avish\\anaconda3\\lib\\site-packages (from pandas>=0.25->pytrends) (2.8.2)\n",
      "Requirement already satisfied: pytz>=2020.1 in c:\\users\\avish\\anaconda3\\lib\\site-packages (from pandas>=0.25->pytrends) (2022.7)\n",
      "Requirement already satisfied: numpy>=1.21.0 in c:\\users\\avish\\anaconda3\\lib\\site-packages (from pandas>=0.25->pytrends) (1.24.3)\n",
      "Requirement already satisfied: charset-normalizer<4,>=2 in c:\\users\\avish\\anaconda3\\lib\\site-packages (from requests>=2.0->pytrends) (2.0.4)\n",
      "Requirement already satisfied: idna<4,>=2.5 in c:\\users\\avish\\anaconda3\\lib\\site-packages (from requests>=2.0->pytrends) (3.4)\n",
      "Requirement already satisfied: urllib3<3,>=1.21.1 in c:\\users\\avish\\anaconda3\\lib\\site-packages (from requests>=2.0->pytrends) (1.26.16)\n",
      "Requirement already satisfied: certifi>=2017.4.17 in c:\\users\\avish\\anaconda3\\lib\\site-packages (from requests>=2.0->pytrends) (2023.7.22)\n",
      "Requirement already satisfied: six>=1.5 in c:\\users\\avish\\anaconda3\\lib\\site-packages (from python-dateutil>=2.8.1->pandas>=0.25->pytrends) (1.16.0)\n",
      "Installing collected packages: pytrends\n",
      "Successfully installed pytrends-4.9.2\n",
      "Note: you may need to restart the kernel to use updated packages.\n"
     ]
    }
   ],
   "source": [
    "pip install pytrends"
   ]
  },
  {
   "cell_type": "code",
   "execution_count": 11,
   "id": "2ffd1f8c",
   "metadata": {},
   "outputs": [
    {
     "name": "stdout",
     "output_type": "stream",
     "text": [
      "Data saved to CSV files.\n"
     ]
    }
   ],
   "source": [
    "import pandas as pd\n",
    "from pytrends.request import TrendReq\n",
    "import time\n",
    "import random\n",
    "\n",
    "# List of user agents\n",
    "user_agents = [\n",
    "    'Mozilla/5.0 (Windows NT 10.0; Win64; x64) AppleWebKit/537.36 (KHTML, like Gecko) Chrome/58.0.3029.110 Safari/537.36',\n",
    "    'Mozilla/5.0 (Windows NT 6.1; Win64; x64) AppleWebKit/537.36 (KHTML, like Gecko) Chrome/58.0.3029.110 Safari/537.36',\n",
    "    # Add more user agents as needed\n",
    "]\n",
    "\n",
    "def get_google_trends_data(keyword, timeframe='today 5-y', geo='US'):\n",
    "    # Create a pytrends object with a random user agent\n",
    "    user_agent = random.choice(user_agents)\n",
    "    pytrends = TrendReq(hl='en-US', tz=360, requests_args={'headers': {'User-Agent': user_agent}})\n",
    "\n",
    "    # Build the payload for the given keyword and timeframe\n",
    "    pytrends.build_payload([keyword], cat=0, timeframe=timeframe, geo=geo)\n",
    "\n",
    "    # Get interest over time data\n",
    "    interest_over_time_df = pytrends.interest_over_time()\n",
    "\n",
    "    # Get related queries\n",
    "    related_queries_dict = pytrends.related_queries()\n",
    "\n",
    "    return interest_over_time_df, related_queries_dict\n",
    "\n",
    "if __name__ == \"__main__\":\n",
    "    # Replace 'your_product' with the product name you want to search for\n",
    "    product_name = \"jeans\"\n",
    "\n",
    "    # Optional: Change the timeframe and geo parameters as needed\n",
    "    # Default timeframe is 'today 5-y' (last 5 years) and geo is 'US' (United States)\n",
    "    # You can specify other timeframes and geos as per your requirement\n",
    "\n",
    "    interest_data, related_queries = get_google_trends_data(product_name)\n",
    "\n",
    "    # Save interest over time data to a CSV file\n",
    "    interest_data.to_csv(f\"{product_name}_interest.csv\")\n",
    "\n",
    " \n",
    "    # Save related queries data to separate CSV files\n",
    "    # Save related queries data to separate CSV files\n",
    "    for query_type, df_dict in related_queries.items():\n",
    "        if df_dict is not None:\n",
    "            for df_name, df in df_dict.items():\n",
    "                if df is not None:\n",
    "                    df.to_csv(f\"{product_name}_related_{query_type}_{df_name}.csv\")\n",
    "\n",
    "\n",
    "\n",
    "    print(\"Data saved to CSV files.\")\n",
    "\n",
    "    # Calculate the time delay needed to limit requests to 10 per second\n",
    "    requests_per_second = 10\n",
    "    time_delay = 1.0 / requests_per_second\n",
    "\n",
    "    # Add the calculated time delay\n",
    "    time.sleep(time_delay)\n"
   ]
  },
  {
   "cell_type": "code",
   "execution_count": null,
   "id": "8d233a3e",
   "metadata": {},
   "outputs": [],
   "source": []
  }
 ],
 "metadata": {
  "kernelspec": {
   "display_name": "Python 3 (ipykernel)",
   "language": "python",
   "name": "python3"
  },
  "language_info": {
   "codemirror_mode": {
    "name": "ipython",
    "version": 3
   },
   "file_extension": ".py",
   "mimetype": "text/x-python",
   "name": "python",
   "nbconvert_exporter": "python",
   "pygments_lexer": "ipython3",
   "version": "3.11.4"
  }
 },
 "nbformat": 4,
 "nbformat_minor": 5
}
