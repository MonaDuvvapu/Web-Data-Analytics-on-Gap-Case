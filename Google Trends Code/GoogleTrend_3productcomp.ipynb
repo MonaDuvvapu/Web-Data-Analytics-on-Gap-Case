{
 "cells": [
  {
   "cell_type": "code",
   "execution_count": 2,
   "id": "7feaf996",
   "metadata": {},
   "outputs": [
    {
     "name": "stdout",
     "output_type": "stream",
     "text": [
      "Interest data saved to CSV file.\n"
     ]
    }
   ],
   "source": [
    "import pandas as pd\n",
    "from pytrends.request import TrendReq\n",
    "import time\n",
    "import random\n",
    "\n",
    "# List of user agents\n",
    "user_agents = [\n",
    "    'Mozilla/5.0 (Windows NT 10.0; Win64; x64) AppleWebKit/537.36 (KHTML, like Gecko) Chrome/58.0.3029.110 Safari/537.36',\n",
    "    'Mozilla/5.0 (Windows NT 6.1; Win64; x64) AppleWebKit/537.36 (KHTML, like Gecko) Chrome/58.0.3029.110 Safari/537.36',\n",
    "    # Add more user agents as needed\n",
    "]\n",
    "\n",
    "def get_google_trends_data(keywords, timeframe='today 5-y', geo='US'):\n",
    "    # Create a pytrends object with a random user agent\n",
    "    user_agent = random.choice(user_agents)\n",
    "    pytrends = TrendReq(hl='en-US', tz=360, requests_args={'headers': {'User-Agent': user_agent}})\n",
    "\n",
    "    # Build the payload for the given keywords and timeframe\n",
    "    pytrends.build_payload(keywords, cat=0, timeframe=timeframe, geo=geo)\n",
    "\n",
    "    # Get interest over time data\n",
    "    interest_over_time_df = pytrends.interest_over_time()\n",
    "\n",
    "    return interest_over_time_df\n",
    "\n",
    "if __name__ == \"__main__\":\n",
    "    # Replace 'product1', 'product2', and 'product3' with the names of the products you want to compare\n",
    "    products = [\"black jeans\", \"blue jeans\", \"grey jeans\"]\n",
    "\n",
    "    # Optional: Change the timeframe and geo parameters as needed\n",
    "    # Default timeframe is 'today 1-y' (last 1 year) and geo is 'US' (United States)\n",
    "    # You can specify other timeframes and geos as per your requirement\n",
    "\n",
    "    # Get interest data for the products\n",
    "    interest_data = get_google_trends_data(products)\n",
    "\n",
    "    # Save interest over time data to a CSV file\n",
    "    interest_data.to_csv(\"3product_interest_data.csv\")\n",
    "\n",
    "    print(\"Interest data saved to CSV file.\")\n"
   ]
  },
  {
   "cell_type": "code",
   "execution_count": null,
   "id": "80214772",
   "metadata": {},
   "outputs": [],
   "source": []
  }
 ],
 "metadata": {
  "kernelspec": {
   "display_name": "Python 3 (ipykernel)",
   "language": "python",
   "name": "python3"
  },
  "language_info": {
   "codemirror_mode": {
    "name": "ipython",
    "version": 3
   },
   "file_extension": ".py",
   "mimetype": "text/x-python",
   "name": "python",
   "nbconvert_exporter": "python",
   "pygments_lexer": "ipython3",
   "version": "3.11.4"
  }
 },
 "nbformat": 4,
 "nbformat_minor": 5
}
