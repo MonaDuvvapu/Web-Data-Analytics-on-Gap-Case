{
 "cells": [
  {
   "cell_type": "code",
   "execution_count": 1,
   "id": "dccc3ec4",
   "metadata": {},
   "outputs": [
    {
     "name": "stdout",
     "output_type": "stream",
     "text": [
      "Sleeping for 1 second to control requests per second...\n",
      "Sleeping for 60 seconds to control requests per minute...\n",
      "Sleeping for 1 second to control requests per second...\n",
      "Sleeping for 60 seconds to control requests per minute...\n",
      "Sleeping for 1 second to control requests per second...\n",
      "Sleeping for 60 seconds to control requests per minute...\n"
     ]
    },
    {
     "name": "stderr",
     "output_type": "stream",
     "text": [
      "Ignoring extracted value 'nan' from <function attribute_key_case_insensitive_extractor at 0x0000026E53651760> for key 'text' (duplicate extraction, follow extractors order)\n",
      "Ignoring extracted value 'nan' from <function last_rest_key_case_insensitive_extractor at 0x0000026E53651620> for key 'text' (duplicate extraction, follow extractors order)\n"
     ]
    },
    {
     "name": "stdout",
     "output_type": "stream",
     "text": [
      "Sleeping for 1 second to control requests per second...\n",
      "Sleeping for 60 seconds to control requests per minute...\n",
      "Sleeping for 1 second to control requests per second...\n",
      "Sleeping for 60 seconds to control requests per minute...\n",
      "Sleeping for 1 second to control requests per second...\n",
      "Sleeping for 60 seconds to control requests per minute...\n",
      "Sleeping for 1 second to control requests per second...\n",
      "Sleeping for 60 seconds to control requests per minute...\n",
      "Sleeping for 1 second to control requests per second...\n",
      "Sleeping for 60 seconds to control requests per minute...\n",
      "Sleeping for 1 second to control requests per second...\n",
      "Sleeping for 60 seconds to control requests per minute...\n"
     ]
    },
    {
     "name": "stderr",
     "output_type": "stream",
     "text": [
      "Ignoring extracted value 'nan' from <function attribute_key_case_insensitive_extractor at 0x0000026E53651760> for key 'text' (duplicate extraction, follow extractors order)\n",
      "Ignoring extracted value 'nan' from <function last_rest_key_case_insensitive_extractor at 0x0000026E53651620> for key 'text' (duplicate extraction, follow extractors order)\n"
     ]
    },
    {
     "name": "stdout",
     "output_type": "stream",
     "text": [
      "Sleeping for 1 second to control requests per second...\n",
      "Sleeping for 60 seconds to control requests per minute...\n"
     ]
    },
    {
     "name": "stderr",
     "output_type": "stream",
     "text": [
      "Ignoring extracted value 'nan' from <function attribute_key_case_insensitive_extractor at 0x0000026E53651760> for key 'text' (duplicate extraction, follow extractors order)\n",
      "Ignoring extracted value 'nan' from <function last_rest_key_case_insensitive_extractor at 0x0000026E53651620> for key 'text' (duplicate extraction, follow extractors order)\n"
     ]
    },
    {
     "name": "stdout",
     "output_type": "stream",
     "text": [
      "Sleeping for 1 second to control requests per second...\n",
      "Sleeping for 60 seconds to control requests per minute...\n",
      "Sleeping for 1 second to control requests per second...\n",
      "Sleeping for 60 seconds to control requests per minute...\n",
      "Sentiment analysis results saved to OldNavy_sentiment_results.csv\n"
     ]
    }
   ],
   "source": [
    "import os\n",
    "import pandas as pd\n",
    "from azure.core.credentials import AzureKeyCredential\n",
    "from azure.ai.textanalytics import TextAnalyticsClient\n",
    "import time\n",
    "\n",
    "# Azure Text Analytics API credentials\n",
    "azure_key = \"07e23bb5db3c47f294e5ab663a07d78c\"\n",
    "azure_endpoint = \"https://azureapi-language.cognitiveservices.azure.com/\"\n",
    "\n",
    "# Initialize the Text Analytics client\n",
    "text_analytics_client = TextAnalyticsClient(endpoint=azure_endpoint, credential=AzureKeyCredential(azure_key))\n",
    "\n",
    "# CSV file containing reviews (replace with your file path)\n",
    "csv_file = \"Old_Navy.csv\"\n",
    "\n",
    "# Column containing reviews\n",
    "review_column = \"Review\"\n",
    "\n",
    "# Read the CSV file using pandas\n",
    "df = pd.read_csv(csv_file)\n",
    "\n",
    "# Extract the reviews from the specified column\n",
    "reviews = df[review_column].tolist()\n",
    "\n",
    "# Prepare the input data in a consistent format (list of dictionaries)\n",
    "documents = [{\"id\": str(idx), \"text\": review} for idx, review in enumerate(reviews)]\n",
    "\n",
    "# Perform sentiment analysis on the documents\n",
    "results = []\n",
    "\n",
    "for idx, document in enumerate(documents):\n",
    "    if idx % 100 == 0 and idx != 0:\n",
    "        print(f\"Sleeping for 60 seconds to control requests per minute...\")\n",
    "        time.sleep(60)  # Sleep for 60 seconds to control requests per minute\n",
    "\n",
    "    result = text_analytics_client.analyze_sentiment([document])[0]\n",
    "    results.append(result)\n",
    "\n",
    "    if (idx + 1) % 100 == 0:\n",
    "        print(f\"Sleeping for 1 second to control requests per second...\")\n",
    "        time.sleep(1)  # Sleep for 1 second to control requests per second\n",
    "\n",
    "# Create a new DataFrame to store the results\n",
    "sentiment_df = pd.DataFrame({\n",
    "    \"Review\": reviews,\n",
    "    \"Sentiment\": [result.sentiment for result in results]\n",
    "})\n",
    "\n",
    "# Specify the output CSV file path\n",
    "output_csv_file = \"OldNavy_sentiment_results.csv\"\n",
    "\n",
    "# Save the sentiment analysis results to a CSV file\n",
    "sentiment_df.to_csv(output_csv_file, index=False)\n",
    "\n",
    "print(f\"Sentiment analysis results saved to {output_csv_file}\")\n"
   ]
  },
  {
   "cell_type": "code",
   "execution_count": null,
   "id": "21c4d80c",
   "metadata": {},
   "outputs": [],
   "source": []
  }
 ],
 "metadata": {
  "kernelspec": {
   "display_name": "Python 3 (ipykernel)",
   "language": "python",
   "name": "python3"
  },
  "language_info": {
   "codemirror_mode": {
    "name": "ipython",
    "version": 3
   },
   "file_extension": ".py",
   "mimetype": "text/x-python",
   "name": "python",
   "nbconvert_exporter": "python",
   "pygments_lexer": "ipython3",
   "version": "3.11.4"
  }
 },
 "nbformat": 4,
 "nbformat_minor": 5
}
